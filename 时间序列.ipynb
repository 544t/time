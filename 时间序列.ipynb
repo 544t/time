{
 "cells": [
  {
   "cell_type": "markdown",
   "metadata": {},
   "source": [
    "第十一章：时间序列"
   ]
  },
  {
   "cell_type": "code",
   "execution_count": 43,
   "metadata": {},
   "outputs": [
    {
     "name": "stdout",
     "output_type": "stream",
     "text": [
      "2019-05-26 10:25:25.695368\n",
      "2019 5 26\n",
      "393 days, 0:00:00\n",
      "2018-12-26 00:00:00\n"
     ]
    }
   ],
   "source": [
    "# 日期和时间数据的类型及工具\n",
    "from datetime import datetime\n",
    "from datetime import timedelta\n",
    "import pandas as pd\n",
    "import numpy as np\n",
    "\n",
    "now = datetime.now()\n",
    "print(now)\n",
    "print(now.year,now.month,now.day)\n",
    "\n",
    "#timedelta表示两个datetime的时间差\n",
    "print(datetime(2019,3,2)-datetime(2018,2,2))\n",
    "\n",
    "datetime = datetime(2019,4,5) - timedelta(100)\n",
    "print(datetime)"
   ]
  },
  {
   "cell_type": "code",
   "execution_count": 53,
   "metadata": {},
   "outputs": [
    {
     "data": {
      "text/plain": [
       "'2011-01-03'"
      ]
     },
     "execution_count": 53,
     "metadata": {},
     "output_type": "execute_result"
    }
   ],
   "source": [
    "from datetime import datetime\n",
    "stamp = datetime(2011, 1, 3)\n",
    "str(stamp)\n",
    "stamp.strftime('%Y-%m-%d')\n"
   ]
  },
  {
   "cell_type": "code",
   "execution_count": 35,
   "metadata": {},
   "outputs": [
    {
     "data": {
      "text/plain": [
       "datetime.datetime(2019, 3, 4, 0, 0)"
      ]
     },
     "execution_count": 35,
     "metadata": {},
     "output_type": "execute_result"
    }
   ],
   "source": [
    "# 转换格式\n",
    "v = '2019-03-04'\n",
    "datetime.strptime(v,'%Y-%m-%d')#这里的Y是大写的！"
   ]
  },
  {
   "cell_type": "code",
   "execution_count": 41,
   "metadata": {},
   "outputs": [
    {
     "name": "stdout",
     "output_type": "stream",
     "text": [
      "2019-01-01 00:00:00\n",
      "2019-01-31 22:45:00\n",
      "2019-01-02 00:00:00\n",
      "2019-02-01 00:00:00\n"
     ]
    }
   ],
   "source": [
    "# 转换格式2\n",
    "from dateutil.parser import parse\n",
    "print(parse('2019-1-1'))\n",
    "print(parse('Jan 31,1997 10:45 PM'))\n",
    "# dayfirst=True日放在月前\n",
    "print(parse('1/2/2019'))\n",
    "print(parse('1/2/2019',dayfirst=True))"
   ]
  },
  {
   "cell_type": "code",
   "execution_count": 48,
   "metadata": {},
   "outputs": [
    {
     "name": "stdout",
     "output_type": "stream",
     "text": [
      "DatetimeIndex(['2011-07-06 12:00:00', '2011-08-06 00:00:00'], dtype='datetime64[ns]', freq=None)\n",
      "DatetimeIndex(['2011-07-06 12:00:00', '2011-08-06 00:00:00', 'NaT'], dtype='datetime64[ns]', freq=None)\n"
     ]
    },
    {
     "data": {
      "text/plain": [
       "array([False, False,  True])"
      ]
     },
     "execution_count": 48,
     "metadata": {},
     "output_type": "execute_result"
    }
   ],
   "source": [
    "# to_datetiem()方法\n",
    "date = ['2011-07-06 12:00:00', '2011-08-06 00:00:00']\n",
    "print(pd.to_datetime(date))\n",
    "\n",
    "idx = pd.to_datetime(date +[None])\n",
    "print(idx)\n",
    "idx.isnull()\n",
    "# NaT为时间戳数据的null值"
   ]
  },
  {
   "cell_type": "code",
   "execution_count": 56,
   "metadata": {},
   "outputs": [
    {
     "name": "stdout",
     "output_type": "stream",
     "text": [
      "2011-01-02   -1.246124\n",
      "2011-01-05   -1.693678\n",
      "2011-01-07   -0.496840\n",
      "2011-01-08    0.553631\n",
      "2011-01-10   -1.755780\n",
      "2011-01-12   -0.406005\n",
      "dtype: float64\n",
      "DatetimeIndex(['2011-01-02', '2011-01-05', '2011-01-07', '2011-01-08',\n",
      "               '2011-01-10', '2011-01-12'],\n",
      "              dtype='datetime64[ns]', freq=None)\n",
      "datetime64[ns]\n"
     ]
    },
    {
     "data": {
      "text/plain": [
       "Timestamp('2011-01-02 00:00:00')"
      ]
     },
     "execution_count": 56,
     "metadata": {},
     "output_type": "execute_result"
    }
   ],
   "source": [
    "# 时间序列基础\n",
    "from datetime import datetime\n",
    "dates = [datetime(2011, 1, 2), datetime(2011, 1, 5),\n",
    "         datetime(2011, 1, 7), datetime(2011, 1, 8),\n",
    "         datetime(2011, 1, 10), datetime(2011, 1, 12)]\n",
    "ts = pd.Series(np.random.randn(6),index = dates)\n",
    "print(ts)\n",
    "print(ts.index)#类型为：DatetimeIndex\n",
    "print(ts.index.dtype)\n",
    "\n",
    "s = ts.index[0]\n",
    "s"
   ]
  },
  {
   "cell_type": "code",
   "execution_count": 58,
   "metadata": {},
   "outputs": [
    {
     "name": "stdout",
     "output_type": "stream",
     "text": [
      "-0.4968398700732917\n",
      "-1.2461244869625958\n"
     ]
    }
   ],
   "source": [
    "# 索引，选择，子集\n",
    "# 索引\n",
    "s = ts.index[2]\n",
    "print(ts[s])\n",
    "print(ts['2011-01-02'])"
   ]
  },
  {
   "cell_type": "code",
   "execution_count": 71,
   "metadata": {},
   "outputs": [
    {
     "name": "stdout",
     "output_type": "stream",
     "text": [
      "2000-01-01   -0.366770\n",
      "2000-01-02    0.802834\n",
      "2000-01-03    1.067436\n",
      "2000-01-04    0.422493\n",
      "2000-01-05    0.287666\n",
      "Freq: D, dtype: float64\n",
      "2000-01-01   -0.366770\n",
      "2000-01-02    0.802834\n",
      "2000-01-03    1.067436\n",
      "2000-01-04    0.422493\n",
      "2000-01-05    0.287666\n",
      "Freq: D, dtype: float64\n",
      "\n",
      "---------切片---------\n",
      "2000-01-01   -0.366770\n",
      "2000-01-02    0.802834\n",
      "2000-01-03    1.067436\n",
      "2000-01-04    0.422493\n",
      "Freq: D, dtype: float64\n",
      "\n",
      "----------赋值后的切片----------\n",
      "2000-01-01    1.000000\n",
      "2000-01-02    1.000000\n",
      "2000-01-03    1.000000\n",
      "2000-01-04    1.000000\n",
      "2000-01-05    0.287666\n",
      "2000-01-06    0.869188\n",
      "2000-01-07    0.568423\n",
      "2000-01-08   -0.296702\n",
      "2000-01-09   -1.103109\n",
      "2000-01-10    0.428128\n",
      "Freq: D, dtype: float64\n"
     ]
    }
   ],
   "source": [
    "long = pd.Series(np.random.randn(1000),\n",
    "                index = pd.date_range('20000101',periods=1000))\n",
    "print(long.head())\n",
    "print(long['2000-1'].head())\n",
    "\n",
    "# 切片\n",
    "# 如果给切片赋值，源数据也将改变\n",
    "print('\\n---------切片---------')\n",
    "print(long['2000-01-01':'2000-01-04'])\n",
    "\n",
    "print('\\n----------赋值后的切片----------')\n",
    "long['2000-01-01':'2000-01-04'] = 1\n",
    "print(long.head(10))"
   ]
  },
  {
   "cell_type": "code",
   "execution_count": 73,
   "metadata": {},
   "outputs": [
    {
     "data": {
      "text/plain": [
       "2000-01-01    1.000000\n",
       "2000-01-02    1.000000\n",
       "2000-01-03    1.000000\n",
       "2000-01-04    1.000000\n",
       "2000-01-05    0.287666\n",
       "2000-01-06    0.869188\n",
       "2000-01-07    0.568423\n",
       "2000-01-08   -0.296702\n",
       "Freq: D, dtype: float64"
      ]
     },
     "execution_count": 73,
     "metadata": {},
     "output_type": "execute_result"
    }
   ],
   "source": [
    "# truncate()方法\n",
    "long.truncate(after = '2000-01-08 ')\n",
    "# after:输出给定日期之前的日期\n",
    "# before:输出给定日期之后的日期    \n"
   ]
  },
  {
   "cell_type": "code",
   "execution_count": 74,
   "metadata": {},
   "outputs": [
    {
     "name": "stdout",
     "output_type": "stream",
     "text": [
      "            Colorado     Texas  New York      Ohio\n",
      "2001-05-02  0.809781 -0.314559 -0.266880 -0.385847\n",
      "2001-05-09  0.507457 -0.276302 -0.150332 -0.716301\n",
      "2001-05-16 -0.488448 -1.376878  0.387466  0.430799\n",
      "2001-05-23  0.323934 -0.740401  0.912458  1.207624\n",
      "2001-05-30  0.512137 -0.163269  0.275771 -0.957317\n"
     ]
    }
   ],
   "source": [
    "dates = pd.date_range('1/1/2000', periods=100, freq='W-WED')\n",
    "long_df = pd.DataFrame(np.random.randn(100, 4),\n",
    "                       index=dates,\n",
    "                       columns=['Colorado', 'Texas',\n",
    "                                'New York', 'Ohio'])\n",
    "print(long_df.loc['5-2001'])"
   ]
  },
  {
   "cell_type": "code",
   "execution_count": 82,
   "metadata": {},
   "outputs": [
    {
     "name": "stdout",
     "output_type": "stream",
     "text": [
      "False\n",
      "2000-01-02    1\n",
      "2000-01-02    2\n",
      "2000-01-02    3\n",
      "dtype: int32\n",
      "2000-01-01    0\n",
      "2000-01-01    4\n",
      "dtype: int32\n"
     ]
    },
    {
     "data": {
      "text/plain": [
       "2000-01-01    2\n",
       "2000-01-02    2\n",
       "dtype: int32"
      ]
     },
     "execution_count": 82,
     "metadata": {},
     "output_type": "execute_result"
    }
   ],
   "source": [
    "# 含有重复索引的时间序列\n",
    "dates = pd.DatetimeIndex(['1/1/2000', '1/2/2000', '1/2/2000',\n",
    "                          '1/2/2000', '1/1/2000'])\n",
    "du = pd.Series(np.arange(5),index = dates)\n",
    "print(du.index.is_unique)\n",
    "print(du['1/2/2000'])\n",
    "print(du['1/1/2000'])\n",
    "\n",
    "#聚合含有重复时间戳的数据\n",
    "g = du.groupby(level = 0)#见书上笔记：P312\n",
    "g.mean()"
   ]
  },
  {
   "cell_type": "code",
   "execution_count": 92,
   "metadata": {},
   "outputs": [
    {
     "name": "stdout",
     "output_type": "stream",
     "text": [
      "DatetimeIndex(['2012-04-01', '2012-04-02', '2012-04-03', '2012-04-04',\n",
      "               '2012-04-05', '2012-04-06', '2012-04-07', '2012-04-08',\n",
      "               '2012-04-09', '2012-04-10'],\n",
      "              dtype='datetime64[ns]', freq='D')\n",
      "DatetimeIndex(['2019-01-02', '2019-01-03', '2019-01-04', '2019-01-05',\n",
      "               '2019-01-06', '2019-01-07', '2019-01-08', '2019-01-09',\n",
      "               '2019-01-10', '2019-01-11'],\n",
      "              dtype='datetime64[ns]', freq='D')\n",
      "\n",
      "-------频率为每月最后一天--------\n",
      "\n",
      "DatetimeIndex(['2019-01-31', '2019-02-28', '2019-03-31', '2019-04-30',\n",
      "               '2019-05-31', '2019-06-30', '2019-07-31', '2019-08-31',\n",
      "               '2019-09-30', '2019-10-31'],\n",
      "              dtype='datetime64[ns]', freq='M')\n"
     ]
    }
   ],
   "source": [
    "#生成日期范围\n",
    "index = pd.date_range('2012-04-01', '2012-06-01')\n",
    "print(index[:10])\n",
    "print(pd.date_range(start='2019-1-2',periods=10))\n",
    "\n",
    "print('\\n-------频率为每月最后一天--------\\n')\n",
    "print(pd.date_range(start='2019-1-2',periods=10,freq = 'M'))\n"
   ]
  },
  {
   "cell_type": "code",
   "execution_count": 95,
   "metadata": {},
   "outputs": [
    {
     "name": "stdout",
     "output_type": "stream",
     "text": [
      "DatetimeIndex(['2010-01-01 12:33:20', '2010-01-02 12:33:20',\n",
      "               '2010-01-03 12:33:20', '2010-01-04 12:33:20',\n",
      "               '2010-01-05 12:33:20'],\n",
      "              dtype='datetime64[ns]', freq='D')\n",
      "DatetimeIndex(['2010-01-01', '2010-01-02', '2010-01-03', '2010-01-04',\n",
      "               '2010-01-05'],\n",
      "              dtype='datetime64[ns]', freq='D')\n"
     ]
    }
   ],
   "source": [
    "#标准化时间戳（去掉时分秒）\n",
    "print(pd.date_range('2010-1-1 12:33:20',periods=5))\n",
    "print(pd.date_range('2010-1-1 12:33:20',periods=5,normalize=True))"
   ]
  },
  {
   "cell_type": "code",
   "execution_count": 100,
   "metadata": {},
   "outputs": [
    {
     "name": "stdout",
     "output_type": "stream",
     "text": [
      "<Hour>\n",
      "<4 * Hours>\n",
      "DatetimeIndex(['2000-01-01 00:00:00', '2000-01-01 04:00:00',\n",
      "               '2000-01-01 08:00:00', '2000-01-01 12:00:00',\n",
      "               '2000-01-01 16:00:00', '2000-01-01 20:00:00',\n",
      "               '2000-01-02 00:00:00', '2000-01-02 04:00:00',\n",
      "               '2000-01-02 08:00:00', '2000-01-02 12:00:00',\n",
      "               '2000-01-02 16:00:00', '2000-01-02 20:00:00',\n",
      "               '2000-01-03 00:00:00', '2000-01-03 04:00:00',\n",
      "               '2000-01-03 08:00:00', '2000-01-03 12:00:00',\n",
      "               '2000-01-03 16:00:00', '2000-01-03 20:00:00'],\n",
      "              dtype='datetime64[ns]', freq='4H')\n"
     ]
    },
    {
     "data": {
      "text/plain": [
       "DatetimeIndex(['2000-01-01 00:00:00', '2000-01-01 01:30:00',\n",
       "               '2000-01-01 03:00:00', '2000-01-01 04:30:00',\n",
       "               '2000-01-01 06:00:00', '2000-01-01 07:30:00',\n",
       "               '2000-01-01 09:00:00', '2000-01-01 10:30:00',\n",
       "               '2000-01-01 12:00:00', '2000-01-01 13:30:00'],\n",
       "              dtype='datetime64[ns]', freq='90T')"
      ]
     },
     "execution_count": 100,
     "metadata": {},
     "output_type": "execute_result"
    }
   ],
   "source": [
    "#频率和日期偏置\n",
    "from pandas.tseries.offsets import Hour, Minute\n",
    "hour = Hour()\n",
    "print(hour)\n",
    "f_hour = Hour(4)\n",
    "print(f_hour)\n",
    "\n",
    "print(pd.date_range('2000-01-01', '2000-01-03 23:59',\n",
    "             freq = '4H'))\n",
    "\n",
    "pd.date_range('2000-01-01',periods=10,\n",
    "             freq = '1h30min')"
   ]
  },
  {
   "cell_type": "code",
   "execution_count": 102,
   "metadata": {},
   "outputs": [
    {
     "data": {
      "text/plain": [
       "DatetimeIndex(['2012-01-20', '2012-02-17', '2012-03-16', '2012-04-20',\n",
       "               '2012-05-18', '2012-06-15', '2012-07-20', '2012-08-17'],\n",
       "              dtype='datetime64[ns]', freq='WOM-3FRI')"
      ]
     },
     "execution_count": 102,
     "metadata": {},
     "output_type": "execute_result"
    }
   ],
   "source": [
    "#月中某星期（week of month）\n",
    "#每月第三个星期五\n",
    "r = pd.date_range('2012-1-1','2012-9-1',freq = 'WOM-3FRI')\n",
    "r"
   ]
  },
  {
   "cell_type": "code",
   "execution_count": 116,
   "metadata": {},
   "outputs": [
    {
     "name": "stdout",
     "output_type": "stream",
     "text": [
      "2000-01-31    2.123967\n",
      "2000-02-29    0.608459\n",
      "2000-03-31    0.521527\n",
      "2000-04-30    0.450241\n",
      "Freq: M, dtype: float64\n",
      "\n",
      "\n",
      "-----这里是index不变，平移数据------\n",
      "\n",
      "2000-01-31         NaN\n",
      "2000-02-29    2.123967\n",
      "2000-03-31    0.608459\n",
      "2000-04-30    0.521527\n",
      "Freq: M, dtype: float64\n",
      "\n",
      "\n",
      "2000-01-31    0.608459\n",
      "2000-02-29    0.521527\n",
      "2000-03-31    0.450241\n",
      "2000-04-30         NaN\n",
      "Freq: M, dtype: float64\n",
      "\n",
      "-------应用------\n",
      "2000-01-31         NaN\n",
      "2000-02-29   -0.713527\n",
      "2000-03-31   -0.142871\n",
      "2000-04-30   -0.136688\n",
      "Freq: M, dtype: float64\n",
      "\n",
      "-----这里是index和数据一起平移------\n"
     ]
    },
    {
     "data": {
      "text/plain": [
       "2000-02-29    2.123967\n",
       "2000-03-31    0.608459\n",
       "2000-04-30    0.521527\n",
       "2000-05-31    0.450241\n",
       "Freq: M, dtype: float64"
      ]
     },
     "execution_count": 116,
     "metadata": {},
     "output_type": "execute_result"
    }
   ],
   "source": [
    "#日期偏移\n",
    "ts = pd.Series(np.random.randn(4),\n",
    "               index=pd.date_range('1/1/2000', periods=4, freq='M'))\n",
    "print(ts)\n",
    "print('\\n')\n",
    "#这里是index不变，平移数据\n",
    "print('-----这里是index不变，平移数据------\\n')\n",
    "print(ts.shift(1))#往下移两个\n",
    "print('\\n')\n",
    "\n",
    "print(ts.shift(-1))\n",
    "\n",
    "print('\\n-------应用------')\n",
    "#增长率\n",
    "pct = ts/ts.shift(1)-1\n",
    "print(pct)\n",
    "\n",
    "#这里是index和数据一起平移\n",
    "print('\\n-----这里是index和数据一起平移------')\n",
    "ts.shift(1,freq = 'M')"
   ]
  },
  {
   "cell_type": "code",
   "execution_count": 128,
   "metadata": {},
   "outputs": [
    {
     "name": "stdout",
     "output_type": "stream",
     "text": [
      "2011-11-20 00:00:00\n",
      "2011-11-30 00:00:00\n",
      "2011-11-30 00:00:00\n",
      "2011-12-31 00:00:00\n",
      "\n",
      "-------rollforward和rollback---------\n",
      "2011-11-30 00:00:00\n",
      "2011-10-31 00:00:00\n",
      "\n",
      "------与groupby()一起的创造性用法------\n",
      "2000-01-15    0.371704\n",
      "2000-01-19    2.563576\n",
      "2000-01-23   -1.316261\n",
      "2000-01-27   -0.108167\n",
      "2000-01-31   -0.079626\n",
      "2000-02-04    1.485499\n",
      "2000-02-08    1.606968\n",
      "2000-02-12    0.248502\n",
      "2000-02-16    0.915796\n",
      "2000-02-20   -0.506583\n",
      "2000-02-24   -1.145328\n",
      "2000-02-28    1.375662\n",
      "2000-03-03    1.249393\n",
      "2000-03-07   -2.892770\n",
      "2000-03-11   -0.610018\n",
      "2000-03-15    2.056888\n",
      "2000-03-19    1.339373\n",
      "2000-03-23    1.275053\n",
      "2000-03-27   -2.009477\n",
      "2000-03-31   -0.908547\n",
      "Freq: 4D, dtype: float64\n"
     ]
    },
    {
     "data": {
      "text/plain": [
       "2000-01-31    0.286245\n",
       "2000-02-29    0.568645\n",
       "2000-03-31   -0.062513\n",
       "dtype: float64"
      ]
     },
     "execution_count": 128,
     "metadata": {},
     "output_type": "execute_result"
    }
   ],
   "source": [
    "from pandas.tseries.offsets import Day,MonthEnd\n",
    "now = datetime(2011,11,17)\n",
    "print(now+3*Day())\n",
    "print(now+MonthEnd())\n",
    "print(now+MonthEnd(1))\n",
    "print(now+MonthEnd(2))\n",
    "#MonthEnd(1)和MonthEnd()等价\n",
    "\n",
    "print('\\n-------rollforward和rollback---------')\n",
    "# rollforward和rollback\n",
    "o = MonthEnd()\n",
    "print(o.rollforward(now))\n",
    "print(o.rollback(now))\n",
    "\n",
    "print('\\n------与groupby()一起的创造性用法------')\n",
    "ts = pd.Series(np.random.randn(20),\n",
    "               index=pd.date_range('1/15/2000', periods=20, freq='4d'))\n",
    "print(ts)\n",
    "ts.groupby(MonthEnd().rollforward).mean()"
   ]
  },
  {
   "cell_type": "code",
   "execution_count": 132,
   "metadata": {},
   "outputs": [
    {
     "name": "stdout",
     "output_type": "stream",
     "text": [
      "['US/Eastern', 'US/Hawaii', 'US/Mountain', 'US/Pacific', 'UTC']\n"
     ]
    },
    {
     "data": {
      "text/plain": [
       "<DstTzInfo 'America/New_York' LMT-1 day, 19:04:00 STD>"
      ]
     },
     "execution_count": 132,
     "metadata": {},
     "output_type": "execute_result"
    }
   ],
   "source": [
    "#时区处理\n",
    "import pytz\n",
    "print(pytz.common_timezones[-5:])\n",
    "tz = pytz.timezone('America/New_York')\n",
    "tz"
   ]
  },
  {
   "cell_type": "code",
   "execution_count": null,
   "metadata": {},
   "outputs": [],
   "source": [
    "#时区跳过"
   ]
  },
  {
   "cell_type": "code",
   "execution_count": 135,
   "metadata": {},
   "outputs": [
    {
     "data": {
      "text/plain": [
       "Period('2012', 'A-DEC')"
      ]
     },
     "execution_count": 135,
     "metadata": {},
     "output_type": "execute_result"
    }
   ],
   "source": [
    "#时间区间和区间算数\n",
    "p = pd.Period(2007,freq = 'A-DEC')\n",
    "p+5"
   ]
  },
  {
   "cell_type": "code",
   "execution_count": 139,
   "metadata": {},
   "outputs": [
    {
     "name": "stdout",
     "output_type": "stream",
     "text": [
      "DatetimeIndex(['2000-01-31', '2000-02-29', '2000-03-31', '2000-04-30',\n",
      "               '2000-05-31', '2000-06-30'],\n",
      "              dtype='datetime64[ns]', freq='M')\n"
     ]
    },
    {
     "data": {
      "text/plain": [
       "2000-01-31    0.300148\n",
       "2000-02-29    0.553764\n",
       "2000-03-31    0.647267\n",
       "2000-04-30    1.212276\n",
       "2000-05-31    0.401715\n",
       "2000-06-30   -0.381857\n",
       "Freq: M, dtype: float64"
      ]
     },
     "execution_count": 139,
     "metadata": {},
     "output_type": "execute_result"
    }
   ],
   "source": [
    "# DatetimeIndex储存的是时区的序列，可以作为任意pandas数据结构的索引\n",
    "r = pd.date_range('2000-1-1','2000-6-30',freq = 'M')\n",
    "print(r)\n",
    "pd.Series(np.random.randn(len(r)),index = r)"
   ]
  },
  {
   "cell_type": "code",
   "execution_count": null,
   "metadata": {},
   "outputs": [],
   "source": []
  },
  {
   "cell_type": "code",
   "execution_count": 145,
   "metadata": {},
   "outputs": [
    {
     "name": "stdout",
     "output_type": "stream",
     "text": [
      "Ohio         -2.298530\n",
      "New York      0.112088\n",
      "Vermont       0.542063\n",
      "Florida      -0.278480\n",
      "Oregon        0.882523\n",
      "Nevada        1.229607\n",
      "California    1.621226\n",
      "Idaho        -1.034533\n",
      "dtype: float64\n",
      "Ohio         -2.298530\n",
      "New York      0.112088\n",
      "Vermont       0.542063\n",
      "Florida      -0.278480\n",
      "Oregon        0.882523\n",
      "Nevada        1.229607\n",
      "California    1.621226\n",
      "Idaho        -1.034533\n",
      "dtype: float64\n"
     ]
    }
   ],
   "source": [
    "states = ['Ohio', 'New York', 'Vermont', 'Florida',\n",
    "          'Oregon', 'Nevada', 'California', 'Idaho']\n",
    "group_key = ['east'] * 4 + ['west'] * 4\n",
    "data = pd.Series(np.random.randn(8),index = states)\n",
    "print(data)\n",
    "# data[['Vermont', 'Nevada', 'Idaho']] = np.nan\n",
    "print(data)"
   ]
  },
  {
   "cell_type": "code",
   "execution_count": 150,
   "metadata": {},
   "outputs": [
    {
     "name": "stdout",
     "output_type": "stream",
     "text": [
      "east   -0.480715\n",
      "west    0.674706\n",
      "dtype: float64\n",
      "east   -0.480715\n",
      "west    0.674706\n",
      "dtype: float64\n"
     ]
    },
    {
     "data": {
      "text/plain": [
       "Ohio         -2.298530\n",
       "New York      0.112088\n",
       "Vermont       0.542063\n",
       "Florida      -0.278480\n",
       "Oregon        0.882523\n",
       "Nevada        1.229607\n",
       "California    1.621226\n",
       "Idaho        -1.034533\n",
       "dtype: float64"
      ]
     },
     "execution_count": 150,
     "metadata": {},
     "output_type": "execute_result"
    }
   ],
   "source": [
    "# print(data.groupby(group_key).mean())\n",
    "#用分组平均值代替nan值\n",
    "fill_mean = lambda x: x.mean()\n",
    "print(data.groupby(group_key).apply(fill_mean))\n",
    "\n",
    "fill_mean = lambda x: x.fillna(data)\n",
    "print(data.groupby(group_key).mean())\n",
    "\n",
    "fill_mean = lambda x: x.fillna(data)\n",
    "data.groupby(group_key).apply(fill_mean)"
   ]
  },
  {
   "cell_type": "code",
   "execution_count": null,
   "metadata": {},
   "outputs": [],
   "source": []
  },
  {
   "cell_type": "code",
   "execution_count": null,
   "metadata": {},
   "outputs": [],
   "source": []
  }
 ],
 "metadata": {
  "kernelspec": {
   "display_name": "Python 3",
   "language": "python",
   "name": "python3"
  },
  "language_info": {
   "codemirror_mode": {
    "name": "ipython",
    "version": 3
   },
   "file_extension": ".py",
   "mimetype": "text/x-python",
   "name": "python",
   "nbconvert_exporter": "python",
   "pygments_lexer": "ipython3",
   "version": "3.7.0"
  }
 },
 "nbformat": 4,
 "nbformat_minor": 2
}
