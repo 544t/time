{
 "cells": [
  {
   "cell_type": "markdown",
   "metadata": {},
   "source": [
    "第十一章：时间序列"
   ]
  },
  {
   "cell_type": "code",
   "execution_count": 27,
   "metadata": {},
   "outputs": [
    {
     "name": "stdout",
     "output_type": "stream",
     "text": [
      "2019-05-27 20:50:59.727559\n",
      "2019 5 27\n",
      "393 days, 0:00:00\n",
      "2018-12-26 00:00:00\n"
     ]
    }
   ],
   "source": [
    "# 日期和时间数据的类型及工具\n",
    "from datetime import datetime\n",
    "from datetime import timedelta\n",
    "import pandas as pd\n",
    "import numpy as np\n",
    "import matplotlib.pyplot as plt\n",
    "\n",
    "now = datetime.now()\n",
    "print(now)\n",
    "print(now.year,now.month,now.day)\n",
    "\n",
    "#timedelta表示两个datetime的时间差\n",
    "print(datetime(2019,3,2)-datetime(2018,2,2))\n",
    "\n",
    "datetime = datetime(2019,4,5) - timedelta(100)\n",
    "print(datetime)"
   ]
  },
  {
   "cell_type": "code",
   "execution_count": 53,
   "metadata": {},
   "outputs": [
    {
     "data": {
      "text/plain": [
       "'2011-01-03'"
      ]
     },
     "execution_count": 53,
     "metadata": {},
     "output_type": "execute_result"
    }
   ],
   "source": [
    "from datetime import datetime\n",
    "stamp = datetime(2011, 1, 3)\n",
    "str(stamp)\n",
    "stamp.strftime('%Y-%m-%d')\n"
   ]
  },
  {
   "cell_type": "code",
   "execution_count": 35,
   "metadata": {},
   "outputs": [
    {
     "data": {
      "text/plain": [
       "datetime.datetime(2019, 3, 4, 0, 0)"
      ]
     },
     "execution_count": 35,
     "metadata": {},
     "output_type": "execute_result"
    }
   ],
   "source": [
    "# 转换格式\n",
    "v = '2019-03-04'\n",
    "datetime.strptime(v,'%Y-%m-%d')#这里的Y是大写的！"
   ]
  },
  {
   "cell_type": "code",
   "execution_count": 41,
   "metadata": {},
   "outputs": [
    {
     "name": "stdout",
     "output_type": "stream",
     "text": [
      "2019-01-01 00:00:00\n",
      "2019-01-31 22:45:00\n",
      "2019-01-02 00:00:00\n",
      "2019-02-01 00:00:00\n"
     ]
    }
   ],
   "source": [
    "# 转换格式2\n",
    "from dateutil.parser import parse\n",
    "print(parse('2019-1-1'))\n",
    "print(parse('Jan 31,1997 10:45 PM'))\n",
    "# dayfirst=True日放在月前\n",
    "print(parse('1/2/2019'))\n",
    "print(parse('1/2/2019',dayfirst=True))"
   ]
  },
  {
   "cell_type": "code",
   "execution_count": 48,
   "metadata": {},
   "outputs": [
    {
     "name": "stdout",
     "output_type": "stream",
     "text": [
      "DatetimeIndex(['2011-07-06 12:00:00', '2011-08-06 00:00:00'], dtype='datetime64[ns]', freq=None)\n",
      "DatetimeIndex(['2011-07-06 12:00:00', '2011-08-06 00:00:00', 'NaT'], dtype='datetime64[ns]', freq=None)\n"
     ]
    },
    {
     "data": {
      "text/plain": [
       "array([False, False,  True])"
      ]
     },
     "execution_count": 48,
     "metadata": {},
     "output_type": "execute_result"
    }
   ],
   "source": [
    "# to_datetiem()方法\n",
    "date = ['2011-07-06 12:00:00', '2011-08-06 00:00:00']\n",
    "print(pd.to_datetime(date))\n",
    "\n",
    "idx = pd.to_datetime(date +[None])\n",
    "print(idx)\n",
    "idx.isnull()\n",
    "# NaT为时间戳数据的null值"
   ]
  },
  {
   "cell_type": "code",
   "execution_count": 56,
   "metadata": {},
   "outputs": [
    {
     "name": "stdout",
     "output_type": "stream",
     "text": [
      "2011-01-02   -1.246124\n",
      "2011-01-05   -1.693678\n",
      "2011-01-07   -0.496840\n",
      "2011-01-08    0.553631\n",
      "2011-01-10   -1.755780\n",
      "2011-01-12   -0.406005\n",
      "dtype: float64\n",
      "DatetimeIndex(['2011-01-02', '2011-01-05', '2011-01-07', '2011-01-08',\n",
      "               '2011-01-10', '2011-01-12'],\n",
      "              dtype='datetime64[ns]', freq=None)\n",
      "datetime64[ns]\n"
     ]
    },
    {
     "data": {
      "text/plain": [
       "Timestamp('2011-01-02 00:00:00')"
      ]
     },
     "execution_count": 56,
     "metadata": {},
     "output_type": "execute_result"
    }
   ],
   "source": [
    "# 时间序列基础\n",
    "from datetime import datetime\n",
    "dates = [datetime(2011, 1, 2), datetime(2011, 1, 5),\n",
    "         datetime(2011, 1, 7), datetime(2011, 1, 8),\n",
    "         datetime(2011, 1, 10), datetime(2011, 1, 12)]\n",
    "ts = pd.Series(np.random.randn(6),index = dates)\n",
    "print(ts)\n",
    "print(ts.index)#类型为：DatetimeIndex\n",
    "print(ts.index.dtype)\n",
    "\n",
    "s = ts.index[0]\n",
    "s"
   ]
  },
  {
   "cell_type": "code",
   "execution_count": 58,
   "metadata": {},
   "outputs": [
    {
     "name": "stdout",
     "output_type": "stream",
     "text": [
      "-0.4968398700732917\n",
      "-1.2461244869625958\n"
     ]
    }
   ],
   "source": [
    "# 索引，选择，子集\n",
    "# 索引\n",
    "s = ts.index[2]\n",
    "print(ts[s])\n",
    "print(ts['2011-01-02'])"
   ]
  },
  {
   "cell_type": "code",
   "execution_count": 71,
   "metadata": {},
   "outputs": [
    {
     "name": "stdout",
     "output_type": "stream",
     "text": [
      "2000-01-01   -0.366770\n",
      "2000-01-02    0.802834\n",
      "2000-01-03    1.067436\n",
      "2000-01-04    0.422493\n",
      "2000-01-05    0.287666\n",
      "Freq: D, dtype: float64\n",
      "2000-01-01   -0.366770\n",
      "2000-01-02    0.802834\n",
      "2000-01-03    1.067436\n",
      "2000-01-04    0.422493\n",
      "2000-01-05    0.287666\n",
      "Freq: D, dtype: float64\n",
      "\n",
      "---------切片---------\n",
      "2000-01-01   -0.366770\n",
      "2000-01-02    0.802834\n",
      "2000-01-03    1.067436\n",
      "2000-01-04    0.422493\n",
      "Freq: D, dtype: float64\n",
      "\n",
      "----------赋值后的切片----------\n",
      "2000-01-01    1.000000\n",
      "2000-01-02    1.000000\n",
      "2000-01-03    1.000000\n",
      "2000-01-04    1.000000\n",
      "2000-01-05    0.287666\n",
      "2000-01-06    0.869188\n",
      "2000-01-07    0.568423\n",
      "2000-01-08   -0.296702\n",
      "2000-01-09   -1.103109\n",
      "2000-01-10    0.428128\n",
      "Freq: D, dtype: float64\n"
     ]
    }
   ],
   "source": [
    "long = pd.Series(np.random.randn(1000),\n",
    "                index = pd.date_range('20000101',periods=1000))\n",
    "print(long.head())\n",
    "print(long['2000-1'].head())\n",
    "\n",
    "# 切片\n",
    "# 如果给切片赋值，源数据也将改变\n",
    "print('\\n---------切片---------')\n",
    "print(long['2000-01-01':'2000-01-04'])\n",
    "\n",
    "print('\\n----------赋值后的切片----------')\n",
    "long['2000-01-01':'2000-01-04'] = 1\n",
    "print(long.head(10))"
   ]
  },
  {
   "cell_type": "code",
   "execution_count": 73,
   "metadata": {},
   "outputs": [
    {
     "data": {
      "text/plain": [
       "2000-01-01    1.000000\n",
       "2000-01-02    1.000000\n",
       "2000-01-03    1.000000\n",
       "2000-01-04    1.000000\n",
       "2000-01-05    0.287666\n",
       "2000-01-06    0.869188\n",
       "2000-01-07    0.568423\n",
       "2000-01-08   -0.296702\n",
       "Freq: D, dtype: float64"
      ]
     },
     "execution_count": 73,
     "metadata": {},
     "output_type": "execute_result"
    }
   ],
   "source": [
    "# truncate()方法\n",
    "long.truncate(after = '2000-01-08 ')\n",
    "# after:输出给定日期之前的日期\n",
    "# before:输出给定日期之后的日期    \n"
   ]
  },
  {
   "cell_type": "code",
   "execution_count": 74,
   "metadata": {},
   "outputs": [
    {
     "name": "stdout",
     "output_type": "stream",
     "text": [
      "            Colorado     Texas  New York      Ohio\n",
      "2001-05-02  0.809781 -0.314559 -0.266880 -0.385847\n",
      "2001-05-09  0.507457 -0.276302 -0.150332 -0.716301\n",
      "2001-05-16 -0.488448 -1.376878  0.387466  0.430799\n",
      "2001-05-23  0.323934 -0.740401  0.912458  1.207624\n",
      "2001-05-30  0.512137 -0.163269  0.275771 -0.957317\n"
     ]
    }
   ],
   "source": [
    "dates = pd.date_range('1/1/2000', periods=100, freq='W-WED')\n",
    "long_df = pd.DataFrame(np.random.randn(100, 4),\n",
    "                       index=dates,\n",
    "                       columns=['Colorado', 'Texas',\n",
    "                                'New York', 'Ohio'])\n",
    "print(long_df.loc['5-2001'])"
   ]
  },
  {
   "cell_type": "code",
   "execution_count": 82,
   "metadata": {},
   "outputs": [
    {
     "name": "stdout",
     "output_type": "stream",
     "text": [
      "False\n",
      "2000-01-02    1\n",
      "2000-01-02    2\n",
      "2000-01-02    3\n",
      "dtype: int32\n",
      "2000-01-01    0\n",
      "2000-01-01    4\n",
      "dtype: int32\n"
     ]
    },
    {
     "data": {
      "text/plain": [
       "2000-01-01    2\n",
       "2000-01-02    2\n",
       "dtype: int32"
      ]
     },
     "execution_count": 82,
     "metadata": {},
     "output_type": "execute_result"
    }
   ],
   "source": [
    "# 含有重复索引的时间序列\n",
    "dates = pd.DatetimeIndex(['1/1/2000', '1/2/2000', '1/2/2000',\n",
    "                          '1/2/2000', '1/1/2000'])\n",
    "du = pd.Series(np.arange(5),index = dates)\n",
    "print(du.index.is_unique)\n",
    "print(du['1/2/2000'])\n",
    "print(du['1/1/2000'])\n",
    "\n",
    "#聚合含有重复时间戳的数据\n",
    "g = du.groupby(level = 0)#见书上笔记：P312\n",
    "g.mean()"
   ]
  },
  {
   "cell_type": "code",
   "execution_count": 92,
   "metadata": {},
   "outputs": [
    {
     "name": "stdout",
     "output_type": "stream",
     "text": [
      "DatetimeIndex(['2012-04-01', '2012-04-02', '2012-04-03', '2012-04-04',\n",
      "               '2012-04-05', '2012-04-06', '2012-04-07', '2012-04-08',\n",
      "               '2012-04-09', '2012-04-10'],\n",
      "              dtype='datetime64[ns]', freq='D')\n",
      "DatetimeIndex(['2019-01-02', '2019-01-03', '2019-01-04', '2019-01-05',\n",
      "               '2019-01-06', '2019-01-07', '2019-01-08', '2019-01-09',\n",
      "               '2019-01-10', '2019-01-11'],\n",
      "              dtype='datetime64[ns]', freq='D')\n",
      "\n",
      "-------频率为每月最后一天--------\n",
      "\n",
      "DatetimeIndex(['2019-01-31', '2019-02-28', '2019-03-31', '2019-04-30',\n",
      "               '2019-05-31', '2019-06-30', '2019-07-31', '2019-08-31',\n",
      "               '2019-09-30', '2019-10-31'],\n",
      "              dtype='datetime64[ns]', freq='M')\n"
     ]
    }
   ],
   "source": [
    "#生成日期范围\n",
    "index = pd.date_range('2012-04-01', '2012-06-01')\n",
    "print(index[:10])\n",
    "print(pd.date_range(start='2019-1-2',periods=10))\n",
    "\n",
    "print('\\n-------频率为每月最后一天--------\\n')\n",
    "print(pd.date_range(start='2019-1-2',periods=10,freq = 'M'))\n"
   ]
  },
  {
   "cell_type": "code",
   "execution_count": 95,
   "metadata": {},
   "outputs": [
    {
     "name": "stdout",
     "output_type": "stream",
     "text": [
      "DatetimeIndex(['2010-01-01 12:33:20', '2010-01-02 12:33:20',\n",
      "               '2010-01-03 12:33:20', '2010-01-04 12:33:20',\n",
      "               '2010-01-05 12:33:20'],\n",
      "              dtype='datetime64[ns]', freq='D')\n",
      "DatetimeIndex(['2010-01-01', '2010-01-02', '2010-01-03', '2010-01-04',\n",
      "               '2010-01-05'],\n",
      "              dtype='datetime64[ns]', freq='D')\n"
     ]
    }
   ],
   "source": [
    "#标准化时间戳（去掉时分秒）\n",
    "print(pd.date_range('2010-1-1 12:33:20',periods=5))\n",
    "print(pd.date_range('2010-1-1 12:33:20',periods=5,normalize=True))"
   ]
  },
  {
   "cell_type": "code",
   "execution_count": 100,
   "metadata": {},
   "outputs": [
    {
     "name": "stdout",
     "output_type": "stream",
     "text": [
      "<Hour>\n",
      "<4 * Hours>\n",
      "DatetimeIndex(['2000-01-01 00:00:00', '2000-01-01 04:00:00',\n",
      "               '2000-01-01 08:00:00', '2000-01-01 12:00:00',\n",
      "               '2000-01-01 16:00:00', '2000-01-01 20:00:00',\n",
      "               '2000-01-02 00:00:00', '2000-01-02 04:00:00',\n",
      "               '2000-01-02 08:00:00', '2000-01-02 12:00:00',\n",
      "               '2000-01-02 16:00:00', '2000-01-02 20:00:00',\n",
      "               '2000-01-03 00:00:00', '2000-01-03 04:00:00',\n",
      "               '2000-01-03 08:00:00', '2000-01-03 12:00:00',\n",
      "               '2000-01-03 16:00:00', '2000-01-03 20:00:00'],\n",
      "              dtype='datetime64[ns]', freq='4H')\n"
     ]
    },
    {
     "data": {
      "text/plain": [
       "DatetimeIndex(['2000-01-01 00:00:00', '2000-01-01 01:30:00',\n",
       "               '2000-01-01 03:00:00', '2000-01-01 04:30:00',\n",
       "               '2000-01-01 06:00:00', '2000-01-01 07:30:00',\n",
       "               '2000-01-01 09:00:00', '2000-01-01 10:30:00',\n",
       "               '2000-01-01 12:00:00', '2000-01-01 13:30:00'],\n",
       "              dtype='datetime64[ns]', freq='90T')"
      ]
     },
     "execution_count": 100,
     "metadata": {},
     "output_type": "execute_result"
    }
   ],
   "source": [
    "#频率和日期偏置\n",
    "from pandas.tseries.offsets import Hour, Minute\n",
    "hour = Hour()\n",
    "print(hour)\n",
    "f_hour = Hour(4)\n",
    "print(f_hour)\n",
    "\n",
    "print(pd.date_range('2000-01-01', '2000-01-03 23:59',\n",
    "             freq = '4H'))\n",
    "\n",
    "pd.date_range('2000-01-01',periods=10,\n",
    "             freq = '1h30min')"
   ]
  },
  {
   "cell_type": "code",
   "execution_count": 102,
   "metadata": {},
   "outputs": [
    {
     "data": {
      "text/plain": [
       "DatetimeIndex(['2012-01-20', '2012-02-17', '2012-03-16', '2012-04-20',\n",
       "               '2012-05-18', '2012-06-15', '2012-07-20', '2012-08-17'],\n",
       "              dtype='datetime64[ns]', freq='WOM-3FRI')"
      ]
     },
     "execution_count": 102,
     "metadata": {},
     "output_type": "execute_result"
    }
   ],
   "source": [
    "#月中某星期（week of month）\n",
    "#每月第三个星期五\n",
    "r = pd.date_range('2012-1-1','2012-9-1',freq = 'WOM-3FRI')\n",
    "r"
   ]
  },
  {
   "cell_type": "code",
   "execution_count": 116,
   "metadata": {},
   "outputs": [
    {
     "name": "stdout",
     "output_type": "stream",
     "text": [
      "2000-01-31    2.123967\n",
      "2000-02-29    0.608459\n",
      "2000-03-31    0.521527\n",
      "2000-04-30    0.450241\n",
      "Freq: M, dtype: float64\n",
      "\n",
      "\n",
      "-----这里是index不变，平移数据------\n",
      "\n",
      "2000-01-31         NaN\n",
      "2000-02-29    2.123967\n",
      "2000-03-31    0.608459\n",
      "2000-04-30    0.521527\n",
      "Freq: M, dtype: float64\n",
      "\n",
      "\n",
      "2000-01-31    0.608459\n",
      "2000-02-29    0.521527\n",
      "2000-03-31    0.450241\n",
      "2000-04-30         NaN\n",
      "Freq: M, dtype: float64\n",
      "\n",
      "-------应用------\n",
      "2000-01-31         NaN\n",
      "2000-02-29   -0.713527\n",
      "2000-03-31   -0.142871\n",
      "2000-04-30   -0.136688\n",
      "Freq: M, dtype: float64\n",
      "\n",
      "-----这里是index和数据一起平移------\n"
     ]
    },
    {
     "data": {
      "text/plain": [
       "2000-02-29    2.123967\n",
       "2000-03-31    0.608459\n",
       "2000-04-30    0.521527\n",
       "2000-05-31    0.450241\n",
       "Freq: M, dtype: float64"
      ]
     },
     "execution_count": 116,
     "metadata": {},
     "output_type": "execute_result"
    }
   ],
   "source": [
    "#日期偏移\n",
    "ts = pd.Series(np.random.randn(4),\n",
    "               index=pd.date_range('1/1/2000', periods=4, freq='M'))\n",
    "print(ts)\n",
    "print('\\n')\n",
    "#这里是index不变，平移数据\n",
    "print('-----这里是index不变，平移数据------\\n')\n",
    "print(ts.shift(1))#往下移两个\n",
    "print('\\n')\n",
    "\n",
    "print(ts.shift(-1))\n",
    "\n",
    "print('\\n-------应用------')\n",
    "#增长率\n",
    "pct = ts/ts.shift(1)-1\n",
    "print(pct)\n",
    "\n",
    "#这里是index和数据一起平移\n",
    "print('\\n-----这里是index和数据一起平移------')\n",
    "ts.shift(1,freq = 'M')"
   ]
  },
  {
   "cell_type": "code",
   "execution_count": 128,
   "metadata": {},
   "outputs": [
    {
     "name": "stdout",
     "output_type": "stream",
     "text": [
      "2011-11-20 00:00:00\n",
      "2011-11-30 00:00:00\n",
      "2011-11-30 00:00:00\n",
      "2011-12-31 00:00:00\n",
      "\n",
      "-------rollforward和rollback---------\n",
      "2011-11-30 00:00:00\n",
      "2011-10-31 00:00:00\n",
      "\n",
      "------与groupby()一起的创造性用法------\n",
      "2000-01-15    0.371704\n",
      "2000-01-19    2.563576\n",
      "2000-01-23   -1.316261\n",
      "2000-01-27   -0.108167\n",
      "2000-01-31   -0.079626\n",
      "2000-02-04    1.485499\n",
      "2000-02-08    1.606968\n",
      "2000-02-12    0.248502\n",
      "2000-02-16    0.915796\n",
      "2000-02-20   -0.506583\n",
      "2000-02-24   -1.145328\n",
      "2000-02-28    1.375662\n",
      "2000-03-03    1.249393\n",
      "2000-03-07   -2.892770\n",
      "2000-03-11   -0.610018\n",
      "2000-03-15    2.056888\n",
      "2000-03-19    1.339373\n",
      "2000-03-23    1.275053\n",
      "2000-03-27   -2.009477\n",
      "2000-03-31   -0.908547\n",
      "Freq: 4D, dtype: float64\n"
     ]
    },
    {
     "data": {
      "text/plain": [
       "2000-01-31    0.286245\n",
       "2000-02-29    0.568645\n",
       "2000-03-31   -0.062513\n",
       "dtype: float64"
      ]
     },
     "execution_count": 128,
     "metadata": {},
     "output_type": "execute_result"
    }
   ],
   "source": [
    "from pandas.tseries.offsets import Day,MonthEnd\n",
    "now = datetime(2011,11,17)\n",
    "print(now+3*Day())\n",
    "print(now+MonthEnd())\n",
    "print(now+MonthEnd(1))\n",
    "print(now+MonthEnd(2))\n",
    "#MonthEnd(1)和MonthEnd()等价\n",
    "\n",
    "print('\\n-------rollforward和rollback---------')\n",
    "# rollforward和rollback\n",
    "o = MonthEnd()\n",
    "print(o.rollforward(now))\n",
    "print(o.rollback(now))\n",
    "\n",
    "print('\\n------与groupby()一起的创造性用法------')\n",
    "ts = pd.Series(np.random.randn(20),\n",
    "               index=pd.date_range('1/15/2000', periods=20, freq='4d'))\n",
    "print(ts)\n",
    "ts.groupby(MonthEnd().rollforward).mean()"
   ]
  },
  {
   "cell_type": "code",
   "execution_count": 132,
   "metadata": {},
   "outputs": [
    {
     "name": "stdout",
     "output_type": "stream",
     "text": [
      "['US/Eastern', 'US/Hawaii', 'US/Mountain', 'US/Pacific', 'UTC']\n"
     ]
    },
    {
     "data": {
      "text/plain": [
       "<DstTzInfo 'America/New_York' LMT-1 day, 19:04:00 STD>"
      ]
     },
     "execution_count": 132,
     "metadata": {},
     "output_type": "execute_result"
    }
   ],
   "source": [
    "#时区处理\n",
    "import pytz\n",
    "print(pytz.common_timezones[-5:])\n",
    "tz = pytz.timezone('America/New_York')\n",
    "tz"
   ]
  },
  {
   "cell_type": "code",
   "execution_count": null,
   "metadata": {},
   "outputs": [],
   "source": [
    "#时区跳过"
   ]
  },
  {
   "cell_type": "code",
   "execution_count": 135,
   "metadata": {},
   "outputs": [
    {
     "data": {
      "text/plain": [
       "Period('2012', 'A-DEC')"
      ]
     },
     "execution_count": 135,
     "metadata": {},
     "output_type": "execute_result"
    }
   ],
   "source": [
    "#时间区间和区间算数\n",
    "p = pd.Period(2007,freq = 'A-DEC')\n",
    "p+5"
   ]
  },
  {
   "cell_type": "code",
   "execution_count": 139,
   "metadata": {},
   "outputs": [
    {
     "name": "stdout",
     "output_type": "stream",
     "text": [
      "DatetimeIndex(['2000-01-31', '2000-02-29', '2000-03-31', '2000-04-30',\n",
      "               '2000-05-31', '2000-06-30'],\n",
      "              dtype='datetime64[ns]', freq='M')\n"
     ]
    },
    {
     "data": {
      "text/plain": [
       "2000-01-31    0.300148\n",
       "2000-02-29    0.553764\n",
       "2000-03-31    0.647267\n",
       "2000-04-30    1.212276\n",
       "2000-05-31    0.401715\n",
       "2000-06-30   -0.381857\n",
       "Freq: M, dtype: float64"
      ]
     },
     "execution_count": 139,
     "metadata": {},
     "output_type": "execute_result"
    }
   ],
   "source": [
    "# DatetimeIndex储存的是时区的序列，可以作为任意pandas数据结构的索引\n",
    "r = pd.date_range('2000-1-1','2000-6-30',freq = 'M')\n",
    "print(r)\n",
    "pd.Series(np.random.randn(len(r)),index = r)"
   ]
  },
  {
   "cell_type": "code",
   "execution_count": 6,
   "metadata": {},
   "outputs": [
    {
     "name": "stdout",
     "output_type": "stream",
     "text": [
      "2007\n",
      "2007-01\n"
     ]
    },
    {
     "data": {
      "text/plain": [
       "Period('2007-12', 'M')"
      ]
     },
     "execution_count": 6,
     "metadata": {},
     "output_type": "execute_result"
    }
   ],
   "source": [
    "# 时期的频率转换\n",
    "p = pd.Period('2007',freq = 'A-DEC')\n",
    "print(p)\n",
    "print(p.asfreq('M',how = 'start'))\n",
    "p.asfreq('M',how = 'end')"
   ]
  },
  {
   "cell_type": "code",
   "execution_count": 8,
   "metadata": {},
   "outputs": [
    {
     "data": {
      "text/plain": [
       "Period('2006-07', 'M')"
      ]
     },
     "execution_count": 8,
     "metadata": {},
     "output_type": "execute_result"
    }
   ],
   "source": [
    "p = pd.Period('2007',freq = 'A-JUN')\n",
    "p.asfreq('M',how = 'start')"
   ]
  },
  {
   "cell_type": "code",
   "execution_count": 13,
   "metadata": {},
   "outputs": [
    {
     "name": "stdout",
     "output_type": "stream",
     "text": [
      "2000-01-31    1.269573\n",
      "2000-02-29   -0.275738\n",
      "2000-03-31    1.108427\n",
      "Freq: M, dtype: float64\n",
      "2000-01    1.269573\n",
      "2000-02   -0.275738\n",
      "2000-03    1.108427\n",
      "Freq: M, dtype: float64\n"
     ]
    }
   ],
   "source": [
    "#将时间戳转换为时期to_period()方法\n",
    "r = pd.date_range('2000-1-1',periods=3,freq = 'M')\n",
    "ts = pd.Series(np.random.randn(3),index = r)\n",
    "print(ts)\n",
    "pts = ts.to_period()#将时间戳转换为时期\n",
    "print(pts)"
   ]
  },
  {
   "cell_type": "code",
   "execution_count": 15,
   "metadata": {},
   "outputs": [
    {
     "name": "stdout",
     "output_type": "stream",
     "text": [
      "2000-01-29    0.641164\n",
      "2000-01-30    1.590604\n",
      "2000-01-31   -0.984512\n",
      "2000-02-01   -0.007769\n",
      "2000-02-02    1.166151\n",
      "2000-02-03   -1.092465\n",
      "Freq: D, dtype: float64\n",
      "2000-01-29    0.641164\n",
      "2000-01-30    1.590604\n",
      "2000-01-31   -0.984512\n",
      "2000-02-01   -0.007769\n",
      "2000-02-02    1.166151\n",
      "2000-02-03   -1.092465\n",
      "Freq: D, dtype: float64\n"
     ]
    },
    {
     "data": {
      "text/plain": [
       "2000-01    0.641164\n",
       "2000-01    1.590604\n",
       "2000-01   -0.984512\n",
       "2000-02   -0.007769\n",
       "2000-02    1.166151\n",
       "2000-02   -1.092465\n",
       "Freq: M, dtype: float64"
      ]
     },
     "execution_count": 15,
     "metadata": {},
     "output_type": "execute_result"
    }
   ],
   "source": [
    "r = pd.date_range('2000-1-29',periods=6,freq = 'D')\n",
    "ts2 = pd.Series(np.random.randn(len(r)),index = r)\n",
    "print(ts2)\n",
    "pts2 = ts2.to_period()\n",
    "print(pts2)\n",
    "pts3 = ts2.to_period('M')#时期长短可调整\n",
    "pts3"
   ]
  },
  {
   "cell_type": "code",
   "execution_count": 21,
   "metadata": {},
   "outputs": [
    {
     "name": "stdout",
     "output_type": "stream",
     "text": [
      "2000-01-29    0.641164\n",
      "2000-01-30    1.590604\n",
      "2000-01-31   -0.984512\n",
      "2000-02-01   -0.007769\n",
      "2000-02-02    1.166151\n",
      "2000-02-03   -1.092465\n",
      "Freq: D, dtype: float64\n",
      "2000-01-29    0.641164\n",
      "2000-01-30    1.590604\n",
      "2000-01-31   -0.984512\n",
      "2000-02-01   -0.007769\n",
      "2000-02-02    1.166151\n",
      "2000-02-03   -1.092465\n",
      "Freq: D, dtype: float64\n",
      "2000-01-29    0.641164\n",
      "2000-01-30    1.590604\n",
      "2000-01-31   -0.984512\n",
      "2000-02-01   -0.007769\n",
      "2000-02-02    1.166151\n",
      "2000-02-03   -1.092465\n",
      "Freq: D, dtype: float64\n"
     ]
    }
   ],
   "source": [
    "#将时间转换回时间戳to_timestamp()\n",
    "pts = ts2.to_period()\n",
    "print(pts)\n",
    "print(pts.to_timestamp())\n",
    "print(pts.to_timestamp(how = 'start'))#这里为啥没有区别？？"
   ]
  },
  {
   "cell_type": "code",
   "execution_count": 26,
   "metadata": {},
   "outputs": [
    {
     "name": "stdout",
     "output_type": "stream",
     "text": [
      "     year  quarter   realgdp  realcons  realinv  realgovt  realdpi    cpi  \\\n",
      "0  1959.0      1.0  2710.349    1707.4  286.898   470.045   1886.9  28.98   \n",
      "1  1959.0      2.0  2778.801    1733.7  310.859   481.301   1919.7  29.15   \n",
      "\n",
      "      m1  tbilrate  unemp      pop  infl  realint  \n",
      "0  139.7      2.82    5.8  177.146  0.00     0.00  \n",
      "1  141.7      3.08    5.1  177.830  2.34     0.74  \n",
      "0    1959.0\n",
      "1    1959.0\n",
      "2    1959.0\n",
      "3    1959.0\n",
      "4    1960.0\n",
      "Name: year, dtype: float64\n",
      "0    1.0\n",
      "1    2.0\n",
      "2    3.0\n",
      "3    4.0\n",
      "4    1.0\n",
      "Name: quarter, dtype: float64\n"
     ]
    }
   ],
   "source": [
    "# 通过数组创建PeriodIndex\n",
    "data = pd.read_csv(r'C:\\Users\\123\\Desktop\\macrodata.csv')\n",
    "print(data.head(2))\n",
    "print(data.year.head())\n",
    "print(data.quarter.head())"
   ]
  },
  {
   "cell_type": "code",
   "execution_count": 27,
   "metadata": {},
   "outputs": [
    {
     "data": {
      "text/plain": [
       "PeriodIndex(['1959Q1', '1959Q2', '1959Q3', '1959Q4', '1960Q1', '1960Q2',\n",
       "             '1960Q3', '1960Q4', '1961Q1', '1961Q2',\n",
       "             ...\n",
       "             '2007Q2', '2007Q3', '2007Q4', '2008Q1', '2008Q2', '2008Q3',\n",
       "             '2008Q4', '2009Q1', '2009Q2', '2009Q3'],\n",
       "            dtype='period[Q-DEC]', length=203, freq='Q-DEC')"
      ]
     },
     "execution_count": 27,
     "metadata": {},
     "output_type": "execute_result"
    }
   ],
   "source": [
    "'''通过通过将这些数组以及⼀个频率传⼊PeriodIndex，就可以将\n",
    "它们合并成DataFrame的⼀个索引'''\n",
    "index = pd.PeriodIndex(year = data.year, quarter = data.quarter,\n",
    "                      freq = 'Q-DEC')\n",
    "index"
   ]
  },
  {
   "cell_type": "code",
   "execution_count": 30,
   "metadata": {},
   "outputs": [
    {
     "data": {
      "text/plain": [
       "1959Q1    0.00\n",
       "1959Q2    2.34\n",
       "1959Q3    2.74\n",
       "1959Q4    0.27\n",
       "1960Q1    2.31\n",
       "Freq: Q-DEC, Name: infl, dtype: float64"
      ]
     },
     "execution_count": 30,
     "metadata": {},
     "output_type": "execute_result"
    }
   ],
   "source": [
    "data.index = index\n",
    "data.infl.head()#这个是什么东西？？"
   ]
  },
  {
   "cell_type": "code",
   "execution_count": 2,
   "metadata": {},
   "outputs": [
    {
     "name": "stdout",
     "output_type": "stream",
     "text": [
      "2000-01-01   -1.103125\n",
      "2000-01-02   -0.864612\n",
      "2000-01-03   -0.410296\n",
      "2000-01-04   -1.256236\n",
      "2000-01-05    0.630949\n",
      "Freq: D, dtype: float64\n",
      "\n",
      "---------resample---------\n",
      "2000-01-31   -0.227897\n",
      "2000-02-29   -0.155966\n",
      "2000-03-31    0.070309\n",
      "2000-04-30    0.385659\n",
      "Freq: M, dtype: float64\n",
      "2000-01   -0.227897\n",
      "2000-02   -0.155966\n",
      "2000-03    0.070309\n",
      "2000-04    0.385659\n",
      "Freq: M, dtype: float64\n"
     ]
    }
   ],
   "source": [
    "# 重采样及频率转换resample()\n",
    "'''重采样：将时间序列频率转换\n",
    "   升采样：低频率转换为高频率\n",
    "   降采样：高频率转换为低频率'''\n",
    "r = pd.date_range('2000-1-1',periods = 100,freq = 'D')\n",
    "s = pd.Series(np.random.randn(len(r)),index = r)\n",
    "print(s.head())\n",
    "print('\\n---------resample---------')\n",
    "print(s.resample('M').mean())\n",
    "print(s.resample('M',kind = 'period').mean())\n",
    "#kind可选择聚合到时间戳或者时期"
   ]
  },
  {
   "cell_type": "code",
   "execution_count": 10,
   "metadata": {},
   "outputs": [
    {
     "name": "stdout",
     "output_type": "stream",
     "text": [
      "2000-01-01 00:00:00     0\n",
      "2000-01-01 00:01:00     1\n",
      "2000-01-01 00:02:00     2\n",
      "2000-01-01 00:03:00     3\n",
      "2000-01-01 00:04:00     4\n",
      "2000-01-01 00:05:00     5\n",
      "2000-01-01 00:06:00     6\n",
      "2000-01-01 00:07:00     7\n",
      "2000-01-01 00:08:00     8\n",
      "2000-01-01 00:09:00     9\n",
      "2000-01-01 00:10:00    10\n",
      "2000-01-01 00:11:00    11\n",
      "Freq: T, dtype: int32\n",
      "\n",
      "\n",
      "2000-01-01 00:00:00     0\n",
      "2000-01-01 00:05:00    15\n",
      "2000-01-01 00:10:00    40\n",
      "2000-01-01 00:15:00    11\n",
      "Freq: 5T, dtype: int32\n"
     ]
    }
   ],
   "source": [
    "#降采样\n",
    "r = pd.date_range('2000-1-1',periods = 12, freq = 'T')\n",
    "ts = pd.Series(np.arange(12),index = r)\n",
    "print(ts)\n",
    "\n",
    "print('\\n')\n",
    "print(ts.resample('5min',closed = 'right',label = 'right').sum())"
   ]
  },
  {
   "cell_type": "code",
   "execution_count": 14,
   "metadata": {},
   "outputs": [
    {
     "name": "stderr",
     "output_type": "stream",
     "text": [
      "D:\\anaconda3\\lib\\site-packages\\ipykernel_launcher.py:4: FutureWarning: how in .resample() is deprecated\n",
      "the new syntax is .resample(...).ohlc()\n",
      "  after removing the cwd from sys.path.\n"
     ]
    },
    {
     "data": {
      "text/html": [
       "<div>\n",
       "<style scoped>\n",
       "    .dataframe tbody tr th:only-of-type {\n",
       "        vertical-align: middle;\n",
       "    }\n",
       "\n",
       "    .dataframe tbody tr th {\n",
       "        vertical-align: top;\n",
       "    }\n",
       "\n",
       "    .dataframe thead th {\n",
       "        text-align: right;\n",
       "    }\n",
       "</style>\n",
       "<table border=\"1\" class=\"dataframe\">\n",
       "  <thead>\n",
       "    <tr style=\"text-align: right;\">\n",
       "      <th></th>\n",
       "      <th>open</th>\n",
       "      <th>high</th>\n",
       "      <th>low</th>\n",
       "      <th>close</th>\n",
       "    </tr>\n",
       "  </thead>\n",
       "  <tbody>\n",
       "    <tr>\n",
       "      <th>2000-01-01 00:00:00</th>\n",
       "      <td>0</td>\n",
       "      <td>4</td>\n",
       "      <td>0</td>\n",
       "      <td>4</td>\n",
       "    </tr>\n",
       "    <tr>\n",
       "      <th>2000-01-01 00:05:00</th>\n",
       "      <td>5</td>\n",
       "      <td>9</td>\n",
       "      <td>5</td>\n",
       "      <td>9</td>\n",
       "    </tr>\n",
       "    <tr>\n",
       "      <th>2000-01-01 00:10:00</th>\n",
       "      <td>10</td>\n",
       "      <td>11</td>\n",
       "      <td>10</td>\n",
       "      <td>11</td>\n",
       "    </tr>\n",
       "  </tbody>\n",
       "</table>\n",
       "</div>"
      ],
      "text/plain": [
       "                     open  high  low  close\n",
       "2000-01-01 00:00:00     0     4    0      4\n",
       "2000-01-01 00:05:00     5     9    5      9\n",
       "2000-01-01 00:10:00    10    11   10     11"
      ]
     },
     "execution_count": 14,
     "metadata": {},
     "output_type": "execute_result"
    }
   ],
   "source": [
    "# OHLC重采样\n",
    "'''第⼀个值（open，开盘）、最后⼀个值（close，收\n",
    "盘）、最⼤值（high，最⾼）以及最⼩值（low，最低）'''\n",
    "ts.resample('5min',how = 'ohlc')\n",
    "# ts.resample('5min').ohlc()两种方法都可以"
   ]
  },
  {
   "cell_type": "code",
   "execution_count": 15,
   "metadata": {},
   "outputs": [
    {
     "data": {
      "text/html": [
       "<div>\n",
       "<style scoped>\n",
       "    .dataframe tbody tr th:only-of-type {\n",
       "        vertical-align: middle;\n",
       "    }\n",
       "\n",
       "    .dataframe tbody tr th {\n",
       "        vertical-align: top;\n",
       "    }\n",
       "\n",
       "    .dataframe thead th {\n",
       "        text-align: right;\n",
       "    }\n",
       "</style>\n",
       "<table border=\"1\" class=\"dataframe\">\n",
       "  <thead>\n",
       "    <tr style=\"text-align: right;\">\n",
       "      <th></th>\n",
       "      <th>Colorado</th>\n",
       "      <th>Texas</th>\n",
       "      <th>New York</th>\n",
       "      <th>Ohio</th>\n",
       "    </tr>\n",
       "  </thead>\n",
       "  <tbody>\n",
       "    <tr>\n",
       "      <th>2000-01-05</th>\n",
       "      <td>0.746402</td>\n",
       "      <td>-0.040021</td>\n",
       "      <td>0.705508</td>\n",
       "      <td>-2.034603</td>\n",
       "    </tr>\n",
       "    <tr>\n",
       "      <th>2000-01-12</th>\n",
       "      <td>-0.272020</td>\n",
       "      <td>-0.801511</td>\n",
       "      <td>0.706958</td>\n",
       "      <td>0.328763</td>\n",
       "    </tr>\n",
       "  </tbody>\n",
       "</table>\n",
       "</div>"
      ],
      "text/plain": [
       "            Colorado     Texas  New York      Ohio\n",
       "2000-01-05  0.746402 -0.040021  0.705508 -2.034603\n",
       "2000-01-12 -0.272020 -0.801511  0.706958  0.328763"
      ]
     },
     "execution_count": 15,
     "metadata": {},
     "output_type": "execute_result"
    }
   ],
   "source": [
    "# 升采样和插值\n",
    "frame = pd.DataFrame(np.random.randn(2, 4),\n",
    "                     index=pd.date_range('1/1/2000', periods=2,\n",
    "                                         freq='W-WED'),\n",
    "                     columns=['Colorado', 'Texas', 'New York', 'Ohio'])\n",
    "frame"
   ]
  },
  {
   "cell_type": "code",
   "execution_count": 16,
   "metadata": {},
   "outputs": [
    {
     "data": {
      "text/html": [
       "<div>\n",
       "<style scoped>\n",
       "    .dataframe tbody tr th:only-of-type {\n",
       "        vertical-align: middle;\n",
       "    }\n",
       "\n",
       "    .dataframe tbody tr th {\n",
       "        vertical-align: top;\n",
       "    }\n",
       "\n",
       "    .dataframe thead th {\n",
       "        text-align: right;\n",
       "    }\n",
       "</style>\n",
       "<table border=\"1\" class=\"dataframe\">\n",
       "  <thead>\n",
       "    <tr style=\"text-align: right;\">\n",
       "      <th></th>\n",
       "      <th>Colorado</th>\n",
       "      <th>Texas</th>\n",
       "      <th>New York</th>\n",
       "      <th>Ohio</th>\n",
       "    </tr>\n",
       "  </thead>\n",
       "  <tbody>\n",
       "    <tr>\n",
       "      <th>2000-01-05</th>\n",
       "      <td>0.746402</td>\n",
       "      <td>-0.040021</td>\n",
       "      <td>0.705508</td>\n",
       "      <td>-2.034603</td>\n",
       "    </tr>\n",
       "    <tr>\n",
       "      <th>2000-01-06</th>\n",
       "      <td>NaN</td>\n",
       "      <td>NaN</td>\n",
       "      <td>NaN</td>\n",
       "      <td>NaN</td>\n",
       "    </tr>\n",
       "    <tr>\n",
       "      <th>2000-01-07</th>\n",
       "      <td>NaN</td>\n",
       "      <td>NaN</td>\n",
       "      <td>NaN</td>\n",
       "      <td>NaN</td>\n",
       "    </tr>\n",
       "    <tr>\n",
       "      <th>2000-01-08</th>\n",
       "      <td>NaN</td>\n",
       "      <td>NaN</td>\n",
       "      <td>NaN</td>\n",
       "      <td>NaN</td>\n",
       "    </tr>\n",
       "    <tr>\n",
       "      <th>2000-01-09</th>\n",
       "      <td>NaN</td>\n",
       "      <td>NaN</td>\n",
       "      <td>NaN</td>\n",
       "      <td>NaN</td>\n",
       "    </tr>\n",
       "    <tr>\n",
       "      <th>2000-01-10</th>\n",
       "      <td>NaN</td>\n",
       "      <td>NaN</td>\n",
       "      <td>NaN</td>\n",
       "      <td>NaN</td>\n",
       "    </tr>\n",
       "    <tr>\n",
       "      <th>2000-01-11</th>\n",
       "      <td>NaN</td>\n",
       "      <td>NaN</td>\n",
       "      <td>NaN</td>\n",
       "      <td>NaN</td>\n",
       "    </tr>\n",
       "    <tr>\n",
       "      <th>2000-01-12</th>\n",
       "      <td>-0.272020</td>\n",
       "      <td>-0.801511</td>\n",
       "      <td>0.706958</td>\n",
       "      <td>0.328763</td>\n",
       "    </tr>\n",
       "  </tbody>\n",
       "</table>\n",
       "</div>"
      ],
      "text/plain": [
       "            Colorado     Texas  New York      Ohio\n",
       "2000-01-05  0.746402 -0.040021  0.705508 -2.034603\n",
       "2000-01-06       NaN       NaN       NaN       NaN\n",
       "2000-01-07       NaN       NaN       NaN       NaN\n",
       "2000-01-08       NaN       NaN       NaN       NaN\n",
       "2000-01-09       NaN       NaN       NaN       NaN\n",
       "2000-01-10       NaN       NaN       NaN       NaN\n",
       "2000-01-11       NaN       NaN       NaN       NaN\n",
       "2000-01-12 -0.272020 -0.801511  0.706958  0.328763"
      ]
     },
     "execution_count": 16,
     "metadata": {},
     "output_type": "execute_result"
    }
   ],
   "source": [
    "# 使用asfreq()\n",
    "frame.resample('D').asfreq()"
   ]
  },
  {
   "cell_type": "code",
   "execution_count": 17,
   "metadata": {},
   "outputs": [
    {
     "data": {
      "text/html": [
       "<div>\n",
       "<style scoped>\n",
       "    .dataframe tbody tr th:only-of-type {\n",
       "        vertical-align: middle;\n",
       "    }\n",
       "\n",
       "    .dataframe tbody tr th {\n",
       "        vertical-align: top;\n",
       "    }\n",
       "\n",
       "    .dataframe thead th {\n",
       "        text-align: right;\n",
       "    }\n",
       "</style>\n",
       "<table border=\"1\" class=\"dataframe\">\n",
       "  <thead>\n",
       "    <tr style=\"text-align: right;\">\n",
       "      <th></th>\n",
       "      <th>Colorado</th>\n",
       "      <th>Texas</th>\n",
       "      <th>New York</th>\n",
       "      <th>Ohio</th>\n",
       "    </tr>\n",
       "  </thead>\n",
       "  <tbody>\n",
       "    <tr>\n",
       "      <th>2000-01-05</th>\n",
       "      <td>0.746402</td>\n",
       "      <td>-0.040021</td>\n",
       "      <td>0.705508</td>\n",
       "      <td>-2.034603</td>\n",
       "    </tr>\n",
       "    <tr>\n",
       "      <th>2000-01-06</th>\n",
       "      <td>0.746402</td>\n",
       "      <td>-0.040021</td>\n",
       "      <td>0.705508</td>\n",
       "      <td>-2.034603</td>\n",
       "    </tr>\n",
       "    <tr>\n",
       "      <th>2000-01-07</th>\n",
       "      <td>0.746402</td>\n",
       "      <td>-0.040021</td>\n",
       "      <td>0.705508</td>\n",
       "      <td>-2.034603</td>\n",
       "    </tr>\n",
       "    <tr>\n",
       "      <th>2000-01-08</th>\n",
       "      <td>0.746402</td>\n",
       "      <td>-0.040021</td>\n",
       "      <td>0.705508</td>\n",
       "      <td>-2.034603</td>\n",
       "    </tr>\n",
       "    <tr>\n",
       "      <th>2000-01-09</th>\n",
       "      <td>0.746402</td>\n",
       "      <td>-0.040021</td>\n",
       "      <td>0.705508</td>\n",
       "      <td>-2.034603</td>\n",
       "    </tr>\n",
       "    <tr>\n",
       "      <th>2000-01-10</th>\n",
       "      <td>0.746402</td>\n",
       "      <td>-0.040021</td>\n",
       "      <td>0.705508</td>\n",
       "      <td>-2.034603</td>\n",
       "    </tr>\n",
       "    <tr>\n",
       "      <th>2000-01-11</th>\n",
       "      <td>0.746402</td>\n",
       "      <td>-0.040021</td>\n",
       "      <td>0.705508</td>\n",
       "      <td>-2.034603</td>\n",
       "    </tr>\n",
       "    <tr>\n",
       "      <th>2000-01-12</th>\n",
       "      <td>-0.272020</td>\n",
       "      <td>-0.801511</td>\n",
       "      <td>0.706958</td>\n",
       "      <td>0.328763</td>\n",
       "    </tr>\n",
       "  </tbody>\n",
       "</table>\n",
       "</div>"
      ],
      "text/plain": [
       "            Colorado     Texas  New York      Ohio\n",
       "2000-01-05  0.746402 -0.040021  0.705508 -2.034603\n",
       "2000-01-06  0.746402 -0.040021  0.705508 -2.034603\n",
       "2000-01-07  0.746402 -0.040021  0.705508 -2.034603\n",
       "2000-01-08  0.746402 -0.040021  0.705508 -2.034603\n",
       "2000-01-09  0.746402 -0.040021  0.705508 -2.034603\n",
       "2000-01-10  0.746402 -0.040021  0.705508 -2.034603\n",
       "2000-01-11  0.746402 -0.040021  0.705508 -2.034603\n",
       "2000-01-12 -0.272020 -0.801511  0.706958  0.328763"
      ]
     },
     "execution_count": 17,
     "metadata": {},
     "output_type": "execute_result"
    }
   ],
   "source": [
    "frame.resample('D').ffill()"
   ]
  },
  {
   "cell_type": "code",
   "execution_count": 18,
   "metadata": {},
   "outputs": [
    {
     "data": {
      "text/html": [
       "<div>\n",
       "<style scoped>\n",
       "    .dataframe tbody tr th:only-of-type {\n",
       "        vertical-align: middle;\n",
       "    }\n",
       "\n",
       "    .dataframe tbody tr th {\n",
       "        vertical-align: top;\n",
       "    }\n",
       "\n",
       "    .dataframe thead th {\n",
       "        text-align: right;\n",
       "    }\n",
       "</style>\n",
       "<table border=\"1\" class=\"dataframe\">\n",
       "  <thead>\n",
       "    <tr style=\"text-align: right;\">\n",
       "      <th></th>\n",
       "      <th>Colorado</th>\n",
       "      <th>Texas</th>\n",
       "      <th>New York</th>\n",
       "      <th>Ohio</th>\n",
       "    </tr>\n",
       "  </thead>\n",
       "  <tbody>\n",
       "    <tr>\n",
       "      <th>2000-01</th>\n",
       "      <td>-2.493069</td>\n",
       "      <td>1.741873</td>\n",
       "      <td>-0.486126</td>\n",
       "      <td>-1.334926</td>\n",
       "    </tr>\n",
       "    <tr>\n",
       "      <th>2000-02</th>\n",
       "      <td>0.267506</td>\n",
       "      <td>1.698226</td>\n",
       "      <td>-0.434662</td>\n",
       "      <td>1.316640</td>\n",
       "    </tr>\n",
       "    <tr>\n",
       "      <th>2000-03</th>\n",
       "      <td>-0.890093</td>\n",
       "      <td>-0.766789</td>\n",
       "      <td>-0.782755</td>\n",
       "      <td>-1.548576</td>\n",
       "    </tr>\n",
       "    <tr>\n",
       "      <th>2000-04</th>\n",
       "      <td>0.000314</td>\n",
       "      <td>0.311272</td>\n",
       "      <td>0.825292</td>\n",
       "      <td>-0.668756</td>\n",
       "    </tr>\n",
       "    <tr>\n",
       "      <th>2000-05</th>\n",
       "      <td>0.596443</td>\n",
       "      <td>-1.306804</td>\n",
       "      <td>-0.428997</td>\n",
       "      <td>2.043944</td>\n",
       "    </tr>\n",
       "  </tbody>\n",
       "</table>\n",
       "</div>"
      ],
      "text/plain": [
       "         Colorado     Texas  New York      Ohio\n",
       "2000-01 -2.493069  1.741873 -0.486126 -1.334926\n",
       "2000-02  0.267506  1.698226 -0.434662  1.316640\n",
       "2000-03 -0.890093 -0.766789 -0.782755 -1.548576\n",
       "2000-04  0.000314  0.311272  0.825292 -0.668756\n",
       "2000-05  0.596443 -1.306804 -0.428997  2.043944"
      ]
     },
     "execution_count": 18,
     "metadata": {},
     "output_type": "execute_result"
    }
   ],
   "source": [
    "# 通过时期进⾏重采样\n",
    "frame = pd.DataFrame(np.random.randn(24, 4),\n",
    "                     index=pd.period_range('1-2000', '12-2001',\n",
    "                                           freq='M'),\n",
    "                     columns=['Colorado', 'Texas', 'New York', 'Ohio'])\n",
    "frame[:5]"
   ]
  },
  {
   "cell_type": "code",
   "execution_count": 21,
   "metadata": {},
   "outputs": [
    {
     "data": {
      "text/html": [
       "<div>\n",
       "<style scoped>\n",
       "    .dataframe tbody tr th:only-of-type {\n",
       "        vertical-align: middle;\n",
       "    }\n",
       "\n",
       "    .dataframe tbody tr th {\n",
       "        vertical-align: top;\n",
       "    }\n",
       "\n",
       "    .dataframe thead th {\n",
       "        text-align: right;\n",
       "    }\n",
       "</style>\n",
       "<table border=\"1\" class=\"dataframe\">\n",
       "  <thead>\n",
       "    <tr style=\"text-align: right;\">\n",
       "      <th></th>\n",
       "      <th>Colorado</th>\n",
       "      <th>Texas</th>\n",
       "      <th>New York</th>\n",
       "      <th>Ohio</th>\n",
       "    </tr>\n",
       "  </thead>\n",
       "  <tbody>\n",
       "    <tr>\n",
       "      <th>2000</th>\n",
       "      <td>0.267926</td>\n",
       "      <td>0.443662</td>\n",
       "      <td>-0.034820</td>\n",
       "      <td>0.460569</td>\n",
       "    </tr>\n",
       "    <tr>\n",
       "      <th>2001</th>\n",
       "      <td>0.025533</td>\n",
       "      <td>-0.266287</td>\n",
       "      <td>-0.261732</td>\n",
       "      <td>0.252199</td>\n",
       "    </tr>\n",
       "  </tbody>\n",
       "</table>\n",
       "</div>"
      ],
      "text/plain": [
       "      Colorado     Texas  New York      Ohio\n",
       "2000  0.267926  0.443662 -0.034820  0.460569\n",
       "2001  0.025533 -0.266287 -0.261732  0.252199"
      ]
     },
     "execution_count": 21,
     "metadata": {},
     "output_type": "execute_result"
    }
   ],
   "source": [
    "a = frame.resample('A-DEC').mean()\n",
    "a"
   ]
  },
  {
   "cell_type": "code",
   "execution_count": 25,
   "metadata": {},
   "outputs": [
    {
     "name": "stdout",
     "output_type": "stream",
     "text": [
      "        Colorado     Texas  New York      Ohio\n",
      "2000Q1  0.267926  0.443662 -0.034820  0.460569\n",
      "2000Q2  0.267926  0.443662 -0.034820  0.460569\n",
      "2000Q3  0.267926  0.443662 -0.034820  0.460569\n",
      "2000Q4  0.267926  0.443662 -0.034820  0.460569\n",
      "2001Q1  0.025533 -0.266287 -0.261732  0.252199\n",
      "2001Q2  0.025533 -0.266287 -0.261732  0.252199\n",
      "2001Q3  0.025533 -0.266287 -0.261732  0.252199\n",
      "2001Q4  0.025533 -0.266287 -0.261732  0.252199\n",
      "\n",
      "\n",
      "        Colorado     Texas  New York      Ohio\n",
      "2000Q4  0.267926  0.443662 -0.034820  0.460569\n",
      "2001Q1  0.267926  0.443662 -0.034820  0.460569\n",
      "2001Q2  0.267926  0.443662 -0.034820  0.460569\n",
      "2001Q3  0.267926  0.443662 -0.034820  0.460569\n",
      "2001Q4  0.025533 -0.266287 -0.261732  0.252199\n"
     ]
    }
   ],
   "source": [
    "# 并不知道convention的作用是啥？\n",
    "print(a.resample('Q-DEC').ffill())\n",
    "print('\\n')\n",
    "print(a.resample('Q-DEC',convention='end').ffill())"
   ]
  },
  {
   "cell_type": "code",
   "execution_count": 39,
   "metadata": {},
   "outputs": [
    {
     "name": "stdout",
     "output_type": "stream",
     "text": [
      "            AAPL   MSFT    XOM     SPX\n",
      "2003-01-02  7.40  21.11  29.22  909.03\n",
      "2003-01-03  7.45  21.14  29.24  908.59\n",
      "2003-01-06  7.45  21.52  29.96  929.01\n",
      "2003-01-07  7.43  21.93  28.95  922.93\n",
      "2003-01-08  7.28  21.31  28.83  909.93\n",
      "            AAPL   MSFT    XOM\n",
      "2003-01-02  7.40  21.11  29.22\n",
      "2003-01-03  7.45  21.14  29.24\n",
      "2003-01-06  7.45  21.52  29.96\n",
      "2003-01-07  7.43  21.93  28.95\n",
      "2003-01-08  7.28  21.31  28.83\n",
      "AxesSubplot(0.125,0.125;0.775x0.755)\n"
     ]
    },
    {
     "data": {
      "text/plain": [
       "<matplotlib.axes._subplots.AxesSubplot at 0x2716fc4df60>"
      ]
     },
     "execution_count": 39,
     "metadata": {},
     "output_type": "execute_result"
    },
    {
     "data": {
      "image/png": "[encoded data removed]",
      "text/plain": [
       "<Figure size 432x288 with 1 Axes>"
      ]
     },
     "metadata": {
      "needs_background": "light"
     },
     "output_type": "display_data"
    }
   ],
   "source": [
    "# 移动窗⼝函数\n",
    "px_all = pd.read_csv(r'C:\\Users\\123\\Desktop\\stock_px_2.csv',\n",
    "                    parse_dates=True,index_col = 0)\n",
    "print(px_all.head())\n",
    "px = px_all[['AAPL','MSFT','XOM']]\n",
    "print(px.head())\n",
    "px = px.resample('B').ffill()\n",
    "print(px['AAPL'].plot())\n",
    "px['AAPL'].rolling(250).mean().plot()"
   ]
  },
  {
   "cell_type": "code",
   "execution_count": 44,
   "metadata": {},
   "outputs": [
    {
     "data": {
      "text/plain": [
       "2003-01-02         NaN\n",
       "2003-01-03         NaN\n",
       "2003-01-06         NaN\n",
       "2003-01-07         NaN\n",
       "2003-01-08         NaN\n",
       "2003-01-09         NaN\n",
       "2003-01-10         NaN\n",
       "2003-01-13         NaN\n",
       "2003-01-14         NaN\n",
       "2003-01-15    0.077496\n",
       "2003-01-16    0.074760\n",
       "2003-01-17    0.112368\n",
       "Freq: B, Name: AAPL, dtype: float64"
      ]
     },
     "execution_count": 44,
     "metadata": {},
     "output_type": "execute_result"
    }
   ],
   "source": [
    "ap_250 = px['AAPL'].rolling(250,min_periods = 10).std()\n",
    "ap_250.head(12)"
   ]
  },
  {
   "cell_type": "code",
   "execution_count": 45,
   "metadata": {},
   "outputs": [
    {
     "data": {
      "text/plain": [
       "<matplotlib.axes._subplots.AxesSubplot at 0x2716fd18518>"
      ]
     },
     "execution_count": 45,
     "metadata": {},
     "output_type": "execute_result"
    },
    {
     "data": {
      "image/png": "[encoded data removed]",
      "text/plain": [
       "<Figure size 432x288 with 1 Axes>"
      ]
     },
     "metadata": {
      "needs_background": "light"
     },
     "output_type": "display_data"
    }
   ],
   "source": [
    "ap_250.plot()"
   ]
  },
  {
   "cell_type": "code",
   "execution_count": 50,
   "metadata": {},
   "outputs": [
    {
     "data": {
      "text/plain": [
       "<matplotlib.axes._subplots.AxesSubplot at 0x2716ff395f8>"
      ]
     },
     "execution_count": 50,
     "metadata": {},
     "output_type": "execute_result"
    },
    {
     "data": {
      "image/png": "[encoded data removed]",
      "text/plain": [
       "<Figure size 432x288 with 1 Axes>"
      ]
     },
     "metadata": {
      "needs_background": "light"
     },
     "output_type": "display_data"
    }
   ],
   "source": [
    "ex = ap_250.expanding().mean()\n",
    "px.rolling(80).mean().plot(logy = True)\n",
    "# logy = True这个参数是什么意思呢？？"
   ]
  },
  {
   "cell_type": "code",
   "execution_count": 51,
   "metadata": {},
   "outputs": [
    {
     "data": {
      "text/plain": [
       "<matplotlib.legend.Legend at 0x2716feec240>"
      ]
     },
     "execution_count": 51,
     "metadata": {},
     "output_type": "execute_result"
    },
    {
     "data": {
      "image/png": "[encoded data removed]",
      "text/plain": [
       "<Figure size 432x288 with 1 Axes>"
      ]
     },
     "metadata": {
      "needs_background": "light"
     },
     "output_type": "display_data"
    }
   ],
   "source": [
    "# 指数加权函数\n",
    "appl = px['AAPL']['2006':'2007']\n",
    "ma60 = appl.rolling(30,min_periods = 20).mean()\n",
    "e_ma60 = appl.ewm(span = 30).mean()\n",
    "ma60.plot(style='k--',label = 'simple_ma')\n",
    "e_ma60.plot(style = 'k-',label = 'em_me')\n",
    "plt.legend()"
   ]
  },
  {
   "cell_type": "code",
   "execution_count": null,
   "metadata": {},
   "outputs": [],
   "source": []
  },
  {
   "cell_type": "code",
   "execution_count": null,
   "metadata": {},
   "outputs": [],
   "source": []
  },
  {
   "cell_type": "code",
   "execution_count": null,
   "metadata": {},
   "outputs": [],
   "source": []
  }
 ],
 "metadata": {
  "kernelspec": {
   "display_name": "Python 3",
   "language": "python",
   "name": "python3"
  },
  "language_info": {
   "codemirror_mode": {
    "name": "ipython",
    "version": 3
   },
   "file_extension": ".py",
   "mimetype": "text/x-python",
   "name": "python",
   "nbconvert_exporter": "python",
   "pygments_lexer": "ipython3",
   "version": "3.7.0"
  }
 },
 "nbformat": 4,
 "nbformat_minor": 2
}
