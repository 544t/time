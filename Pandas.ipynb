{
 "cells": [
  {
   "cell_type": "markdown",
   "metadata": {},
   "source": [
    "第五章：Pandas入门"
   ]
  },
  {
   "cell_type": "code",
   "execution_count": 3,
   "metadata": {},
   "outputs": [
    {
     "name": "stdout",
     "output_type": "stream",
     "text": [
      "0    1\n",
      "1    2\n",
      "2    3\n",
      "3    4\n",
      "4    5\n",
      "dtype: int64\n",
      "a    1\n",
      "b    2\n",
      "c    3\n",
      "d    4\n",
      "e    5\n",
      "dtype: int64\n",
      "--------------------\n",
      "[1 2 3 4 5]\n",
      "Index(['a', 'b', 'c', 'd', 'e'], dtype='object')\n",
      "和Series一样，values属性也会以ndarray的形式返回DF\n",
      "[[ 0  1  2  3  4  5]\n",
      " [ 6  7  8  9 10 11]\n",
      " [12 13 14 15 16 17]\n",
      " [18 19 20 21 22 23]]\n",
      "<class 'numpy.ndarray'>\n",
      "可通过索引获取值\n",
      "1\n",
      "a    1\n",
      "b    2\n",
      "c    3\n",
      "dtype: int64\n",
      "\n",
      "布尔，乘法，函数\n",
      "d    4\n",
      "e    5\n",
      "dtype: int64\n",
      "a    10\n",
      "b    20\n",
      "c    30\n",
      "d    40\n",
      "e    50\n",
      "dtype: int64\n",
      "a    1.000000\n",
      "b    1.414214\n",
      "c    1.732051\n",
      "d    2.000000\n",
      "e    2.236068\n",
      "dtype: float64\n"
     ]
    }
   ],
   "source": [
    "#Pandas数据结构\n",
    "import numpy as np\n",
    "import pandas as pd\n",
    "s = pd.Series([1,2,3,4,5])\n",
    "print(s)\n",
    "s = pd.Series([1,2,3,4,5],index = ['a','b','c','d','e'])\n",
    "print(s)\n",
    "print('--------------------')\n",
    "print(s.values)#注意这里没有一对小括号\n",
    "print(s.index)#注意这里没有一对小括号\n",
    "# 和Series一样，values属性也会以ndarray的形式返回DF\n",
    "print('和Series一样，values属性也会以ndarray的形式返回DF')\n",
    "df = pd.DataFrame(np.arange(24).reshape(4,6))\n",
    "print(df.values)\n",
    "print(type(df.values))\n",
    "\n",
    "print('可通过索引获取值')\n",
    "print(s['a'])\n",
    "print(s[['a','b','c']])#注意这里两层方括号\n",
    "\n",
    "print('\\n布尔，乘法，函数')\n",
    "print(s[s>3])\n",
    "print(s*10)\n",
    "print(np.sqrt(s))"
   ]
  },
  {
   "cell_type": "code",
   "execution_count": 22,
   "metadata": {},
   "outputs": [
    {
     "name": "stdout",
     "output_type": "stream",
     "text": [
      "False\n",
      "False\n",
      "aa    11\n",
      "bb    22\n",
      "cc    33\n",
      "dtype: int64\n",
      "-------------------------\n",
      "aa    11.0\n",
      "bb    22.0\n",
      "cc     NaN\n",
      "dtype: float64\n",
      "aa    False\n",
      "bb    False\n",
      "cc     True\n",
      "dtype: bool\n",
      "aa     True\n",
      "bb     True\n",
      "cc    False\n",
      "dtype: bool\n"
     ]
    }
   ],
   "source": [
    "#是否存在\n",
    "print('a' in s)\n",
    "print('f' in s)\n",
    "#通过字典创建Seris\n",
    "s = pd.Series({'aa':11,'bb':22,'cc':33})\n",
    "print(s)\n",
    "\n",
    "print('-------------------------')\n",
    "#Null值\n",
    "s = pd.Series({'aa':11,'bb':22,'cc':np.nan})\n",
    "print(s)\n",
    "print(s.isnull())\n",
    "print(s.notnull())"
   ]
  },
  {
   "cell_type": "code",
   "execution_count": 24,
   "metadata": {},
   "outputs": [
    {
     "name": "stdout",
     "output_type": "stream",
     "text": [
      "wwwwww\n",
      "aa    11.0\n",
      "bb    22.0\n",
      "cc     NaN\n",
      "Name: qqqqq, dtype: float64\n"
     ]
    }
   ],
   "source": [
    "#Seris和其index都有name属性\n",
    "s.name = 'qqqqq'\n",
    "s.index.name  = 'wwwwww'\n",
    "print(s)"
   ]
  },
  {
   "cell_type": "code",
   "execution_count": 37,
   "metadata": {},
   "outputs": [
    {
     "name": "stdout",
     "output_type": "stream",
     "text": [
      "   a  b  c\n",
      "0  1  1  1\n",
      "1  2  2  2\n",
      "2  3  3  3\n",
      "3  4  4  4\n",
      "-------------------\n",
      "    a   b   c   d   e   f\n",
      "0   0   1   2   3   4   5\n",
      "1   6   7   8   9  10  11\n",
      "2  12  13  14  15  16  17\n",
      "3  18  19  20  21  22  23\n",
      "0     0\n",
      "1     6\n",
      "2    12\n",
      "3    18\n",
      "Name: a, dtype: int32\n",
      "--------------------\n",
      "a    12\n",
      "b    13\n",
      "c    14\n",
      "d    15\n",
      "e    16\n",
      "f    17\n",
      "Name: 2, dtype: int32\n",
      "---------------------\n",
      "     a   b   c   d   e   f\n",
      "0  100   1   2   3   4   5\n",
      "1  100   7   8   9  10  11\n",
      "2  100  13  14  15  16  17\n",
      "3  100  19  20  21  22  23\n"
     ]
    }
   ],
   "source": [
    "#DataFrame\n",
    "#字典创建DataFrame\n",
    "df = pd.DataFrame({'a':[1,2,3,4],'b':[1,2,3,4],'c':[1,2,3,4]})\n",
    "print(df)\n",
    "print('-------------------')\n",
    "df = pd.DataFrame(np.arange(24).reshape(4,6),\n",
    "                  columns=['a','b','c','d','e','f'])\n",
    "print(df)\n",
    "print(df['a'])#取某列\n",
    "print('--------------------')\n",
    "print(df.loc[2])#取某行\n",
    "\n",
    "#通过赋值修改值\n",
    "print('---------------------')\n",
    "df['a'] = 100\n",
    "print(df)"
   ]
  },
  {
   "cell_type": "code",
   "execution_count": 43,
   "metadata": {},
   "outputs": [
    {
     "name": "stdout",
     "output_type": "stream",
     "text": [
      "     a  b    c\n",
      "1  1.0  1  1.0\n",
      "2  2.0  2  2.0\n",
      "3  NaN  3  NaN\n",
      "     1    2    3\n",
      "a  1.0  2.0  NaN\n",
      "b  1.0  2.0  3.0\n",
      "c  1.0  2.0  NaN\n"
     ]
    }
   ],
   "source": [
    "#嵌套字典创建DF\n",
    "# 内层键作为行索引\n",
    "df = pd.DataFrame({'a':{1:1,2:2},'b':{1:1,2:2,3:3},'c':{1:1,2:2}})\n",
    "print(df)\n",
    "# 转置\n",
    "print(df.T)"
   ]
  },
  {
   "cell_type": "code",
   "execution_count": 8,
   "metadata": {},
   "outputs": [
    {
     "name": "stdout",
     "output_type": "stream",
     "text": [
      "Index(['a', 'b', 'c', 'd', 'e'], dtype='object')\n",
      "Index(['b', 'c'], dtype='object')\n"
     ]
    },
    {
     "data": {
      "text/plain": [
       "True"
      ]
     },
     "execution_count": 8,
     "metadata": {},
     "output_type": "execute_result"
    }
   ],
   "source": [
    "#索引对象\n",
    "i = pd.Series(range(5),index = ['a','b','c','d','e'])\n",
    "print(i.index)\n",
    "print(i.index[1:3])#index有数组和集合的影子\n",
    "'a' in i.index\n",
    "#与python集合（set）不同的是，index可以有重复值"
   ]
  },
  {
   "cell_type": "code",
   "execution_count": 20,
   "metadata": {},
   "outputs": [
    {
     "name": "stdout",
     "output_type": "stream",
     "text": [
      "a    1\n",
      "b    2\n",
      "c    3\n",
      "d    4\n",
      "dtype: int64\n",
      "a    1.0\n",
      "b    2.0\n",
      "c    3.0\n",
      "d    4.0\n",
      "e    NaN\n",
      "dtype: float64\n",
      "a    1\n",
      "b    2\n",
      "c    3\n",
      "d    4\n",
      "e    4\n",
      "dtype: int64\n",
      "------------------------------\n",
      "   aa  bb  cc  dd\n",
      "a   0   1   2   3\n",
      "b   4   5   6   7\n",
      "    aa   bb\n",
      "a  0.0  1.0\n",
      "b  4.0  5.0\n",
      "c  NaN  NaN\n"
     ]
    },
    {
     "name": "stderr",
     "output_type": "stream",
     "text": [
      "D:\\anaconda3\\lib\\site-packages\\ipykernel_launcher.py:12: FutureWarning: Interpreting call\n",
      "\t'.reindex(a, b)' as \n",
      "\t'.reindex(index=a, columns=b)'.\n",
      "Use named arguments to remove any ambiguity. In the future, using positional arguments for 'index' or 'columns' will raise  a 'TypeError'.\n",
      "  if sys.path[0] == '':\n",
      "D:\\anaconda3\\lib\\site-packages\\ipykernel_launcher.py:14: FutureWarning: \n",
      "Passing list-likes to .loc or [] with any missing label will raise\n",
      "KeyError in the future, you can use .reindex() as an alternative.\n",
      "\n",
      "See the documentation here:\n",
      "https://pandas.pydata.org/pandas-docs/stable/indexing.html#deprecate-loc-reindex-listlike\n",
      "  \n"
     ]
    },
    {
     "data": {
      "text/html": [
       "<div>\n",
       "<style scoped>\n",
       "    .dataframe tbody tr th:only-of-type {\n",
       "        vertical-align: middle;\n",
       "    }\n",
       "\n",
       "    .dataframe tbody tr th {\n",
       "        vertical-align: top;\n",
       "    }\n",
       "\n",
       "    .dataframe thead th {\n",
       "        text-align: right;\n",
       "    }\n",
       "</style>\n",
       "<table border=\"1\" class=\"dataframe\">\n",
       "  <thead>\n",
       "    <tr style=\"text-align: right;\">\n",
       "      <th></th>\n",
       "      <th>aa</th>\n",
       "      <th>bb</th>\n",
       "    </tr>\n",
       "  </thead>\n",
       "  <tbody>\n",
       "    <tr>\n",
       "      <th>a</th>\n",
       "      <td>0.0</td>\n",
       "      <td>1.0</td>\n",
       "    </tr>\n",
       "    <tr>\n",
       "      <th>b</th>\n",
       "      <td>4.0</td>\n",
       "      <td>5.0</td>\n",
       "    </tr>\n",
       "    <tr>\n",
       "      <th>c</th>\n",
       "      <td>NaN</td>\n",
       "      <td>NaN</td>\n",
       "    </tr>\n",
       "  </tbody>\n",
       "</table>\n",
       "</div>"
      ],
      "text/plain": [
       "    aa   bb\n",
       "a  0.0  1.0\n",
       "b  4.0  5.0\n",
       "c  NaN  NaN"
      ]
     },
     "execution_count": 20,
     "metadata": {},
     "output_type": "execute_result"
    }
   ],
   "source": [
    "#重建索引\n",
    "s = pd.Series([1,2,3,4],index = ['a','b','c','d'])\n",
    "print(s)\n",
    "f = s.reindex(['a','b','c','d','e'])\n",
    "print(f)\n",
    "d = s.reindex(['a','b','c','d','e'],method = 'ffill')\n",
    "print(d)\n",
    "print('------------------------------')\n",
    "df = pd.DataFrame(np.arange(8).reshape(2,4),index = ['a','b'],\n",
    "                 columns = ['aa','bb','cc','dd'])\n",
    "print(df)\n",
    "print(df.reindex(['a','b','c'],['aa','bb']))\n",
    "#简便做法\n",
    "df.loc[['a','b','c'],['aa','bb']]"
   ]
  },
  {
   "cell_type": "code",
   "execution_count": 23,
   "metadata": {},
   "outputs": [
    {
     "name": "stdout",
     "output_type": "stream",
     "text": [
      "   aa  bb  cc  dd\n",
      "a   0   1   2   3\n",
      "b   4   5   6   7\n",
      "   aa  bb  cc  dd\n",
      "b   4   5   6   7\n"
     ]
    }
   ],
   "source": [
    "#删除指定轴上的项\n",
    "df = pd.DataFrame(np.arange(8).reshape(2,4),index = ['a','b'],\n",
    "                 columns = ['aa','bb','cc','dd'])\n",
    "print(df)\n",
    "print(df.drop(['a'],axis = 'index'))"
   ]
  },
  {
   "cell_type": "code",
   "execution_count": 30,
   "metadata": {},
   "outputs": [
    {
     "name": "stdout",
     "output_type": "stream",
     "text": [
      "b    2\n",
      "c    3\n",
      "dtype: int64\n",
      "aa    0\n",
      "bb    1\n",
      "Name: a, dtype: int32\n",
      "aa    0\n",
      "bb    1\n",
      "Name: a, dtype: int32\n",
      "   aa  cc\n",
      "a   0   2\n",
      "b   4   6\n",
      "--------------------\n",
      "0    1\n",
      "1    2\n",
      "2    3\n",
      "dtype: int64\n",
      "0    1\n",
      "1    2\n",
      "dtype: int64\n"
     ]
    }
   ],
   "source": [
    "#索引，选择，过滤\n",
    "#普通切片是左闭右开，Series是左闭右闭\n",
    "s = pd.Series([1,2,3,4],index = ['a','b','c','d'])\n",
    "print(s['b':'c'])\n",
    "\n",
    "#loc和iloc\n",
    "df = pd.DataFrame(np.arange(8).reshape(2,4),index = ['a','b'],\n",
    "                 columns = ['aa','bb','cc','dd'])\n",
    "print(df.loc['a',['aa','bb']])#轴标签\n",
    "print(df.iloc[0,[0,1]])#整数标签\n",
    "#轴标签还可以切片\n",
    "print(df.loc[:,['aa','cc']])\n",
    "print('--------------------')\n",
    "s = pd.Series([1,2,3,4])\n",
    "print(s.loc[:2])#右闭\n",
    "print(s.iloc[:2])#右开\n"
   ]
  },
  {
   "cell_type": "code",
   "execution_count": 33,
   "metadata": {},
   "outputs": [
    {
     "name": "stdout",
     "output_type": "stream",
     "text": [
      "a    2.0\n",
      "b    4.0\n",
      "c    6.0\n",
      "d    8.0\n",
      "e    NaN\n",
      "dtype: float64\n",
      "    aa   bb  cc   dd  ee\n",
      "a  0.0  2.0 NaN  6.0 NaN\n",
      "b  NaN  NaN NaN  NaN NaN\n",
      "c  NaN  NaN NaN  NaN NaN\n",
      "add方法+填充缺失值\n",
      "    aa   bb   cc   dd   ee\n",
      "a  0.0  2.0  2.0  6.0  2.0\n",
      "b  4.0  5.0  6.0  7.0  NaN\n",
      "c  4.0  5.0  NaN  7.0  6.0\n"
     ]
    }
   ],
   "source": [
    "#算数和数据对齐（pandas加减运算）\n",
    "s1 = pd.Series([1,2,3,4],index = ['a','b','c','d'])\n",
    "s2 = pd.Series([1,2,3,4,5],index = ['a','b','c','d','e'])\n",
    "print(s1+s2)\n",
    "\n",
    "df1 = pd.DataFrame(np.arange(8).reshape(2,4),index = ['a','b'],\n",
    "                 columns = ['aa','bb','cc','dd'])\n",
    "df2 = pd.DataFrame(np.arange(8).reshape(2,4),index = ['a','c'],\n",
    "                 columns = ['aa','bb','ee','dd'])\n",
    "print(df1+df2)\n",
    "#除了交集区域，其他均为null\n",
    "#add方法+填充缺失值\n",
    "print('add方法+填充缺失值')\n",
    "print(df1.add(df2,fill_value = 0))\n"
   ]
  },
  {
   "cell_type": "code",
   "execution_count": 49,
   "metadata": {},
   "outputs": [
    {
     "name": "stdout",
     "output_type": "stream",
     "text": [
      "[0 1 2 3]\n",
      "----------------\n",
      "[[0 0 0 0]\n",
      " [4 4 4 4]\n",
      " [8 8 8 8]]\n",
      "----------------\n",
      "   aa  bb  cc  dd\n",
      "a   0   1   2   3\n",
      "b   4   5   6   7\n",
      "aa    0\n",
      "bb    1\n",
      "cc    2\n",
      "dd    3\n",
      "Name: a, dtype: int32\n",
      "   aa  bb  cc  dd\n",
      "a   0   0   0   0\n",
      "b   4   4   4   4\n",
      "\n",
      "竖着广播\n",
      "   aa  bb  cc  dd\n",
      "a   0   1   2   3\n",
      "b   0   1   2   3\n"
     ]
    }
   ],
   "source": [
    "#广播机制（DF-S）\n",
    "#横着广播\n",
    "arr = np.arange(12).reshape(3,4)\n",
    "print(arr[0])\n",
    "print('----------------')\n",
    "print(arr-arr[0])\n",
    "\n",
    "print('----------------')\n",
    "df1 = pd.DataFrame(np.arange(8).reshape(2,4),index = ['a','b'],\n",
    "                 columns = ['aa','bb','cc','dd'])\n",
    "print(df1)\n",
    "print(df1.iloc[0])\n",
    "print(df1-df.iloc[0])\n",
    "\n",
    "# 竖着广播\n",
    "print('\\n竖着广播')\n",
    "s = df1['aa']\n",
    "print(df1.sub(s,axis = 'index'))\n"
   ]
  },
  {
   "cell_type": "code",
   "execution_count": 57,
   "metadata": {},
   "outputs": [
    {
     "name": "stdout",
     "output_type": "stream",
     "text": [
      "          0         1         2\n",
      "0 -0.905686  1.132575 -0.053979\n",
      "1  1.569249 -0.973814  1.499774\n",
      "2  0.532384  1.444126 -0.473399\n",
      "3  0.938030  0.540886 -0.523488\n",
      "          0         1         2\n",
      "0  0.905686  1.132575  0.053979\n",
      "1  1.569249  0.973814  1.499774\n",
      "2  0.532384  1.444126  0.473399\n",
      "3  0.938030  0.540886  0.523488\n",
      "\n",
      "-----apply方法----\n",
      "\n",
      "0   -2.474936\n",
      "1   -2.417940\n",
      "2   -2.023262\n",
      "dtype: float64\n",
      "0   -2.038262\n",
      "1   -2.543063\n",
      "2   -1.917524\n",
      "3   -1.461517\n",
      "dtype: float64\n",
      "\n",
      "\n",
      "          a         b         c\n",
      "0 -0.759830  0.075583  2.300389\n",
      "1  1.236174  1.422535 -0.190231\n",
      "2 -1.247125  0.374450 -0.456644\n",
      "3 -0.029237  0.383400 -0.246822\n"
     ]
    },
    {
     "data": {
      "text/html": [
       "<div>\n",
       "<style scoped>\n",
       "    .dataframe tbody tr th:only-of-type {\n",
       "        vertical-align: middle;\n",
       "    }\n",
       "\n",
       "    .dataframe tbody tr th {\n",
       "        vertical-align: top;\n",
       "    }\n",
       "\n",
       "    .dataframe thead th {\n",
       "        text-align: right;\n",
       "    }\n",
       "</style>\n",
       "<table border=\"1\" class=\"dataframe\">\n",
       "  <thead>\n",
       "    <tr style=\"text-align: right;\">\n",
       "      <th></th>\n",
       "      <th>a</th>\n",
       "      <th>b</th>\n",
       "      <th>c</th>\n",
       "    </tr>\n",
       "  </thead>\n",
       "  <tbody>\n",
       "    <tr>\n",
       "      <th>min</th>\n",
       "      <td>-1.247125</td>\n",
       "      <td>0.075583</td>\n",
       "      <td>-0.456644</td>\n",
       "    </tr>\n",
       "    <tr>\n",
       "      <th>max</th>\n",
       "      <td>1.236174</td>\n",
       "      <td>1.422535</td>\n",
       "      <td>2.300389</td>\n",
       "    </tr>\n",
       "  </tbody>\n",
       "</table>\n",
       "</div>"
      ],
      "text/plain": [
       "            a         b         c\n",
       "min -1.247125  0.075583 -0.456644\n",
       "max  1.236174  1.422535  2.300389"
      ]
     },
     "execution_count": 57,
     "metadata": {},
     "output_type": "execute_result"
    }
   ],
   "source": [
    "#函数应用与映射\n",
    "df = pd.DataFrame(np.random.randn(4,3))\n",
    "print(df)\n",
    "print(np.abs(df))#整个矩阵的绝对值\n",
    "#apply方法\n",
    "print('\\n-----apply方法----\\n')\n",
    "f = lambda x: x.min() - x.max()\n",
    "print(df.apply(f))#默认竖着\n",
    "print(df.apply(f,axis = 'columns'))#横着\n",
    "\n",
    "print('\\n')\n",
    "df = pd.DataFrame(np.random.randn(4,3),columns=['a','b','c'])\n",
    "print(df)\n",
    "def f(x):\n",
    "    return pd.Series([x.min(),x.max()],index = ['min','max'])\n",
    "df.apply(f)\n"
   ]
  },
  {
   "cell_type": "code",
   "execution_count": 60,
   "metadata": {},
   "outputs": [
    {
     "name": "stdout",
     "output_type": "stream",
     "text": [
      "       a     b      c\n",
      "0  -0.76  0.08   2.30\n",
      "1   1.24  1.42  -0.19\n",
      "2  -1.25  0.37  -0.46\n",
      "3  -0.03  0.38  -0.25\n",
      "0    -0.76\n",
      "1     1.24\n",
      "2    -1.25\n",
      "3    -0.03\n",
      "Name: a, dtype: object\n"
     ]
    }
   ],
   "source": [
    "f = lambda x: '%0.2f' % x\n",
    "print(df.applymap(f))\n",
    "print(df['a'].apply(f))"
   ]
  },
  {
   "cell_type": "code",
   "execution_count": 1,
   "metadata": {},
   "outputs": [
    {
     "name": "stdout",
     "output_type": "stream",
     "text": [
      "------------series-----------\n",
      "a    1\n",
      "c    2\n",
      "b    3\n",
      "d    4\n",
      "dtype: int64\n",
      "a    1\n",
      "b    3\n",
      "c    2\n",
      "d    4\n",
      "dtype: int64\n",
      "\n",
      "-----------DataFrame------------\n",
      "   1  3  2  4\n",
      "b  0  1  2  3\n",
      "a  4  5  6  7\n",
      "------------竖着-------------\n",
      "   1  3  2  4\n",
      "a  4  5  6  7\n",
      "b  0  1  2  3\n",
      "------------横着-------------\n",
      "   1  2  3  4\n",
      "b  0  2  1  3\n",
      "a  4  6  5  7\n",
      "------------横着且降序-------------\n",
      "   4  3  2  1\n",
      "b  3  1  2  0\n",
      "a  7  5  6  4\n",
      "-----------对列中的值排序-------------\n",
      "   1  3  2  4\n",
      "b  0  1  2  3\n",
      "a  4  5  6  7\n"
     ]
    }
   ],
   "source": [
    "#排序与排名\n",
    "import pandas as pd\n",
    "import numpy as np\n",
    "print('------------series-----------')\n",
    "s = pd.Series([1,2,3,4],index = ['a','c','b','d'])\n",
    "print(s)\n",
    "print(s.sort_index())\n",
    "print('\\n-----------DataFrame------------')\n",
    "df = pd.DataFrame(np.arange(8).reshape(2,4),index = ['b','a'],\n",
    "                 columns = ['1','3','2','4'])\n",
    "print(df)\n",
    "print('------------竖着-------------')\n",
    "print(df.sort_index(axis = 0))#竖着\n",
    "print('------------横着-------------')\n",
    "print(df.sort_index(axis = 1))#横着\n",
    "print('------------横着且降序-------------')\n",
    "print(df.sort_index(axis = 1,ascending=False))\n",
    "print('-----------对列中的值排序-------------')\n",
    "print(df.sort_values(by = '1'))"
   ]
  },
  {
   "cell_type": "code",
   "execution_count": 3,
   "metadata": {},
   "outputs": [
    {
     "name": "stdout",
     "output_type": "stream",
     "text": [
      "a    1.5\n",
      "c    4.0\n",
      "b    1.5\n",
      "d    3.0\n",
      "dtype: float64\n",
      "a    1.0\n",
      "c    4.0\n",
      "b    2.0\n",
      "d    3.0\n",
      "dtype: float64\n",
      "-----------DataFrame-------------\n",
      "     1    3    2    4\n",
      "b  1.0  1.0  1.0  1.0\n",
      "a  2.0  2.0  2.0  2.0\n",
      "     1    3    2    4\n",
      "b  1.0  2.0  3.0  4.0\n",
      "a  1.0  2.0  3.0  4.0\n"
     ]
    }
   ],
   "source": [
    "#rank\n",
    "s = pd.Series([3,7,3,4],index = ['a','c','b','d'])\n",
    "print(s.rank())#默认为method = avg\n",
    "print(s.rank(method = 'first'))\n",
    "print('-----------DataFrame-------------')\n",
    "df = pd.DataFrame(np.arange(8).reshape(2,4),index = ['b','a'],\n",
    "                 columns = ['1','3','2','4'])\n",
    "print(df.rank())\n",
    "print(df.rank(axis = 1))"
   ]
  },
  {
   "cell_type": "code",
   "execution_count": 7,
   "metadata": {},
   "outputs": [
    {
     "name": "stdout",
     "output_type": "stream",
     "text": [
      "Index(['a', 'c', 'b'], dtype='object')\n",
      "b    3\n",
      "b    4\n",
      "dtype: int64\n",
      "1    4\n",
      "3    5\n",
      "2    6\n",
      "4    7\n",
      "Name: a, dtype: int32\n",
      "b    0\n",
      "a    4\n",
      "Name: 1, dtype: int32\n"
     ]
    }
   ],
   "source": [
    "#带有重复值的轴索引\n",
    "s = pd.Series([3,7,3,4],index = ['a','c','b','b'])\n",
    "print(s.index.unique())\n",
    "print(s['b'])\n",
    "df = pd.DataFrame(np.arange(8).reshape(2,4),index = ['b','a'],\n",
    "                 columns = ['1','3','2','4'])\n",
    "print(df.loc['a'])#DF的index索引只能用.loc()/.iloc()\n",
    "print(df['1'])#字段索引没问题"
   ]
  },
  {
   "cell_type": "code",
   "execution_count": 3,
   "metadata": {},
   "outputs": [
    {
     "name": "stdout",
     "output_type": "stream",
     "text": [
      "   1  3  2  4\n",
      "b  0  1  2  3\n",
      "a  4  5  6  7\n",
      "1     4\n",
      "3     6\n",
      "2     8\n",
      "4    10\n",
      "dtype: int64\n",
      "b     6\n",
      "a    22\n",
      "dtype: int64\n",
      "-----------apply()和value_counts()-----------\n",
      "   q1  q2  q3\n",
      "0   1   3   3\n",
      "1   2   3   3\n",
      "2   2   4   2\n",
      "3   1   5   1\n",
      "4   2   5   2\n",
      "    q1   q2   q3\n",
      "1  2.0  0.0  1.0\n",
      "2  3.0  0.0  2.0\n",
      "3  0.0  2.0  2.0\n",
      "4  0.0  1.0  0.0\n",
      "5  0.0  2.0  0.0\n"
     ]
    }
   ],
   "source": [
    "#数据汇总和描述\n",
    "df = pd.DataFrame(np.arange(8).reshape(2,4),index = ['b','a'],\n",
    "                 columns = ['1','3','2','4'])\n",
    "print(df)\n",
    "print(df.sum())#竖着\n",
    "print(df.sum(axis = 1))#横着\n",
    "#describe（）和value_counts(),isin()\n",
    "print('-----------apply()和value_counts()-----------')\n",
    "df = pd.DataFrame({'q1':[1,2,2,1,2],\n",
    "                 'q2':[3,3,4,5,5],\n",
    "                  'q3':[3,3,2,1,2]})\n",
    "print(df)\n",
    "print(df.apply(pd.value_counts).fillna(0))#有问题"
   ]
  },
  {
   "cell_type": "code",
   "execution_count": null,
   "metadata": {},
   "outputs": [],
   "source": [
    "#相关系数与协方差\n"
   ]
  },
  {
   "cell_type": "code",
   "execution_count": 47,
   "metadata": {},
   "outputs": [
    {
     "name": "stdout",
     "output_type": "stream",
     "text": [
      "   1  3  2  4\n",
      "b  0  1  2  3\n",
      "a  4  5  6  7\n",
      "   1    3  2  4\n",
      "b  0  1.0  2  3\n",
      "a  4  NaN  6  7\n",
      "\n",
      "---------df.dropna()---------\n",
      "   1    3  2  4\n",
      "b  0  1.0  2  3\n",
      "\n",
      "\n",
      "   1    3  2  4\n",
      "b  0  1.0  2  3\n",
      "a  4  NaN  6  7\n"
     ]
    }
   ],
   "source": [
    "#缺失值过滤\n",
    "df = pd.DataFrame(np.arange(8).reshape(2,4),index = ['b','a'],\n",
    "                 columns = ['1','3','2','4'])\n",
    "print(df)\n",
    "df.loc['a','3'] = np.nan\n",
    "print(df[df.notnull()])#有问题\n",
    "#df.dropna()\n",
    "print('\\n---------df.dropna()---------')\n",
    "print(df.dropna())\n",
    "print('\\n')\n",
    "print(df.dropna(how = 'all'))"
   ]
  },
  {
   "cell_type": "code",
   "execution_count": 11,
   "metadata": {},
   "outputs": [
    {
     "name": "stdout",
     "output_type": "stream",
     "text": [
      "   1    3   2  4\n",
      "b  0  1.0 NaN  3\n",
      "a  4  NaN NaN  7\n",
      "   1    3    2  4\n",
      "b  0  1.0  0.0  3\n",
      "a  4  0.0  0.0  7\n",
      "-------字典填充-------\n",
      "   1    3      2  4\n",
      "b  0  1.0  111.0  3\n",
      "a  4  NaN  111.0  7\n",
      "   1    3   2  4\n",
      "b  0  1.0 NaN  3\n",
      "a  4  1.0 NaN  7\n",
      "   1    3    2  4\n",
      "b  0  1.0  5.0  3\n",
      "a  4  5.0  5.0  7\n"
     ]
    },
    {
     "data": {
      "text/plain": [
       "1    2.0\n",
       "3    1.0\n",
       "2    NaN\n",
       "4    5.0\n",
       "dtype: float64"
      ]
     },
     "execution_count": 11,
     "metadata": {},
     "output_type": "execute_result"
    }
   ],
   "source": [
    "#填充缺失数据\n",
    "df = pd.DataFrame(np.arange(8).reshape(2,4),index = ['b','a'],\n",
    "                 columns = ['1','3','2','4'])\n",
    "df['2'] = np.nan\n",
    "df.loc['a','3'] = np.nan\n",
    "print(df)\n",
    "print(df.fillna(0))\n",
    "print('-------字典填充-------')\n",
    "print(df.fillna({'2':111,'a':'0'}))#只能针对为null值的，进行填充\n",
    "#inplace = True,修改源df\n",
    "print(df.fillna(df.mean()))#这里算出了每个字段的均值，然后这个字段如果\n",
    "#有缺失值，就用它填充，这里的字段‘2’全部为null，所以填充值也为null\n",
    "print(df.fillna(df['4'].mean()))#这样就不行了，这种方法好像只能用Seris\n",
    "df.mean()"
   ]
  },
  {
   "cell_type": "code",
   "execution_count": 68,
   "metadata": {},
   "outputs": [
    {
     "name": "stdout",
     "output_type": "stream",
     "text": [
      "a  1    0.753762\n",
      "   2    2.229193\n",
      "   3   -0.388695\n",
      "b  1   -2.064985\n",
      "   2   -1.268953\n",
      "   3   -1.445640\n",
      "c  1   -0.836296\n",
      "   2   -0.734389\n",
      "d  2   -1.465162\n",
      "   3    0.643286\n",
      "dtype: float64\n",
      "MultiIndex(levels=[['a', 'b', 'c', 'd'], [1, 2, 3]],\n",
      "           labels=[[0, 0, 0, 1, 1, 1, 2, 2, 3, 3], [0, 1, 2, 0, 1, 2, 0, 1, 1, 2]])\n",
      "a    2.229193\n",
      "b   -1.268953\n",
      "c   -0.734389\n",
      "d   -1.465162\n",
      "dtype: float64\n",
      "-----------重新生成一个DataFrame------------\n",
      "          1         2         3\n",
      "a  0.753762  2.229193 -0.388695\n",
      "b -2.064985 -1.268953 -1.445640\n",
      "c -0.836296 -0.734389       NaN\n",
      "d       NaN -1.465162  0.643286\n"
     ]
    }
   ],
   "source": [
    "#层次化索引\n",
    "s = pd.Series(np.random.randn(10),\n",
    "              index = [['a','a','a','b','b','b','c','c','d','d'],[1,2,3,1,2,3,1,2,2,3]])\n",
    "print(s)\n",
    "print(s.index)#这里居然不是元组了\n",
    "print(s[:,2])#外索引，内索引都可以用\n",
    "\n",
    "print('-----------重新生成一个DataFrame------------')\n",
    "print(s.unstack())"
   ]
  },
  {
   "cell_type": "code",
   "execution_count": null,
   "metadata": {},
   "outputs": [],
   "source": [
    "#重新分级排序\n"
   ]
  },
  {
   "cell_type": "markdown",
   "metadata": {},
   "source": [
    "第六章：数据载入，存储，及文件格式"
   ]
  },
  {
   "cell_type": "code",
   "execution_count": 20,
   "metadata": {},
   "outputs": [
    {
     "name": "stdout",
     "output_type": "stream",
     "text": [
      "   a   b   c   d message\n",
      "0  1   2   3   4   hello\n",
      "1  5   6   7   8   world\n",
      "2  9  10  11  12     foo\n",
      "   a   b   c   d message\n",
      "0  1   2   3   4   hello\n",
      "1  5   6   7   8   world\n",
      "2  9  10  11  12     foo\n",
      "\n",
      "--------不要表头-----------\n",
      "   0   1   2   3        4\n",
      "0  a   b   c   d  message\n",
      "1  1   2   3   4    hello\n",
      "2  5   6   7   8    world\n",
      "3  9  10  11  12      foo\n",
      "\n",
      "--------表头names-----------\n",
      "         a   b   c   d\n",
      "message               \n",
      "message  a   b   c   d\n",
      "hello    1   2   3   4\n",
      "world    5   6   7   8\n",
      "foo      9  10  11  12\n"
     ]
    }
   ],
   "source": [
    "df = pd.read_csv(r'C:\\Users\\123\\Desktop\\ex1.csv')\n",
    "print(df)\n",
    "#也可以用read_table()\n",
    "df = pd.read_table(r'C:\\Users\\123\\Desktop\\ex1.csv',sep = ',')\n",
    "print(df)\n",
    "#不要表头\n",
    "print('\\n--------不要表头-----------')\n",
    "df = pd.read_csv(r'C:\\Users\\123\\Desktop\\ex1.csv',header = None)\n",
    "print(df)\n",
    "print('\\n--------表头names-----------')\n",
    "#指定message这列为索引\n",
    "names = ['a','b','c','d','message']\n",
    "df = pd.read_csv(r'C:\\Users\\123\\Desktop\\ex1.csv',\n",
    "                names = names,index_col = 'message')\n",
    "print(df)\n"
   ]
  },
  {
   "cell_type": "code",
   "execution_count": 22,
   "metadata": {},
   "outputs": [
    {
     "name": "stdout",
     "output_type": "stream",
     "text": [
      "  key1 key2  value1  value2\n",
      "0  one    a       1       2\n",
      "1  one    b       3       4\n",
      "2  one    c       5       6\n",
      "3  one    d       7       8\n",
      "4  two    a       9      10\n",
      "5  two    b      11      12\n",
      "6  two    c      13      14\n",
      "7  two    d      15      16\n",
      "           value1  value2\n",
      "key1 key2                \n",
      "one  a          1       2\n",
      "     b          3       4\n",
      "     c          5       6\n",
      "     d          7       8\n",
      "two  a          9      10\n",
      "     b         11      12\n",
      "     c         13      14\n",
      "     d         15      16\n"
     ]
    }
   ],
   "source": [
    "df = pd.read_csv(r'C:\\Users\\123\\Desktop\\csv_mindex.csv')\n",
    "print(df)\n",
    "#分层索引\n",
    "df = pd.read_csv(r'C:\\Users\\123\\Desktop\\csv_mindex.csv',\n",
    "                index_col = ['key1','key2'])\n",
    "print(df)\n"
   ]
  },
  {
   "cell_type": "code",
   "execution_count": 23,
   "metadata": {},
   "outputs": [
    {
     "name": "stdout",
     "output_type": "stream",
     "text": [
      "            A         B         C\n",
      "aaa -0.264438 -1.026059 -0.619500\n",
      "bbb  0.927272  0.302904 -0.032399\n",
      "ccc -0.264273 -0.386314 -0.217601\n",
      "ddd -0.871858 -0.348382  1.100491\n"
     ]
    }
   ],
   "source": [
    "#利用正则表达式\n",
    "#\\s+表示匹配一个或多个空格\n",
    "df = pd.read_table(r'C:\\Users\\123\\Desktop\\ex3.txt',sep = '\\s+')\n",
    "print(df)"
   ]
  },
  {
   "cell_type": "code",
   "execution_count": 26,
   "metadata": {},
   "outputs": [
    {
     "name": "stdout",
     "output_type": "stream",
     "text": [
      "                                                                      # hey!\n",
      "a                                                  b        c   d    message\n",
      "# just wanted to make things more difficult for... NaN      NaN NaN      NaN\n",
      "# who reads CSV files with computers                anyway? NaN NaN      NaN\n",
      "1                                                  2        3   4      hello\n",
      "5                                                  6        7   8      world\n",
      "9                                                  10       11  12       foo\n",
      "   a   b   c   d message\n",
      "0  1   2   3   4   hello\n",
      "1  5   6   7   8   world\n",
      "2  9  10  11  12     foo\n"
     ]
    }
   ],
   "source": [
    "df = pd.read_csv(r'C:\\Users\\123\\Desktop\\ex4.csv')\n",
    "print(df)\n",
    "#skiprows参数，跳过特定行\n",
    "df = pd.read_csv(r'C:\\Users\\123\\Desktop\\ex4.csv',skiprows = [0,2,3])\n",
    "print(df)"
   ]
  },
  {
   "cell_type": "code",
   "execution_count": 27,
   "metadata": {},
   "outputs": [
    {
     "name": "stdout",
     "output_type": "stream",
     "text": [
      "  something  a   b     c   d message\n",
      "0       one  1   2   3.0   4     NaN\n",
      "1       two  5   6   NaN   8   world\n",
      "2     three  9  10  11.0  12     foo\n"
     ]
    }
   ],
   "source": [
    "#缺失值\n",
    "df = pd.read_csv(r'C:\\Users\\123\\Desktop\\ex5.csv')\n",
    "print(df)"
   ]
  },
  {
   "cell_type": "code",
   "execution_count": 34,
   "metadata": {},
   "outputs": [
    {
     "name": "stdout",
     "output_type": "stream",
     "text": [
      "           one       two     three      four key\n",
      "0     0.467976 -0.038649 -0.295344 -1.824726   L\n",
      "1    -0.358893  1.404453  0.704965 -0.200638   B\n",
      "2    -0.501840  0.659254 -0.421691 -0.057688   G\n",
      "3     0.204886  1.074134  1.388361 -0.982404   R\n",
      "4     0.354628 -0.133116  0.283763 -0.837063   Q\n",
      "...        ...       ...       ...       ...  ..\n",
      "9995  2.311896 -0.417070 -1.409599 -0.515821   L\n",
      "9996 -0.479893 -0.650419  0.745152 -0.646038   E\n",
      "9997  0.523331  0.787112  0.486066  1.093156   K\n",
      "9998 -0.362559  0.598894 -1.843201  0.887292   G\n",
      "9999 -0.096376 -1.012999 -0.657431 -0.573315   0\n",
      "\n",
      "[10000 rows x 5 columns]\n",
      "        one       two     three      four key\n",
      "0  0.467976 -0.038649 -0.295344 -1.824726   L\n",
      "1 -0.358893  1.404453  0.704965 -0.200638   B\n",
      "2 -0.501840  0.659254 -0.421691 -0.057688   G\n",
      "3  0.204886  1.074134  1.388361 -0.982404   R\n",
      "4  0.354628 -0.133116  0.283763 -0.837063   Q\n",
      "        one       two     three      four key\n",
      "0  0.467976 -0.038649 -0.295344 -1.824726   L\n",
      "1 -0.358893  1.404453  0.704965 -0.200638   B\n",
      "2 -0.501840  0.659254 -0.421691 -0.057688   G\n",
      "3  0.204886  1.074134  1.388361 -0.982404   R\n",
      "4  0.354628 -0.133116  0.283763 -0.837063   Q\n",
      "E    368\n",
      "X    364\n",
      "L    346\n",
      "O    343\n",
      "Q    340\n",
      "M    338\n",
      "J    337\n",
      "F    335\n",
      "K    334\n",
      "H    330\n",
      "Name: key, dtype: int64\n"
     ]
    }
   ],
   "source": [
    "#分块读入文本文件\n",
    "pd.options.display.max_rows = 10#只显示十条数据\n",
    "df = pd.read_csv(r'C:\\Users\\123\\Desktop\\ex6.csv')\n",
    "print(df)\n",
    "#用nrow显示前五行\n",
    "df = pd.read_csv(r'C:\\Users\\123\\Desktop\\ex6.csv',nrows = 5)\n",
    "print(df)\n",
    "#用head显示前五行\n",
    "df = pd.read_csv(r'C:\\Users\\123\\Desktop\\ex6.csv')\n",
    "print(df.head())\n",
    "print(df['key'].value_counts().head(10))"
   ]
  },
  {
   "cell_type": "code",
   "execution_count": 38,
   "metadata": {},
   "outputs": [],
   "source": [
    "#将数据写入文本格式\n",
    "#到处csv\n",
    "df = pd.read_csv(r'C:\\Users\\123\\Desktop\\ex5.csv')\n",
    "df.to_csv(r'C:\\Users\\123\\Desktop\\out.csv')\n",
    "import sys\n",
    "df.to_csv(r'C:\\Users\\123\\Desktop\\out.csv',sep = '|')\n",
    "#将缺失值显示为null\n",
    "df.to_csv(r'C:\\Users\\123\\Desktop\\out.csv',sep = '|',na_rep = 'null')\n",
    "#from_csv()"
   ]
  },
  {
   "cell_type": "code",
   "execution_count": 6,
   "metadata": {},
   "outputs": [
    {
     "name": "stdout",
     "output_type": "stream",
     "text": [
      "<_csv.reader object at 0x0000027677F4B0B0>\n",
      "['a', 'b', 'c', 'd', 'message']\n",
      "['1', '2', '3', '4', 'hello']\n",
      "['5', '6', '7', '8', 'world']\n",
      "['9', '10', '11', '12', 'foo']\n"
     ]
    }
   ],
   "source": [
    "#使用分隔格式\n",
    "import csv\n",
    "f = open(r'C:\\Users\\123\\Desktop\\ex1.csv')\n",
    "df = csv.reader(f)\n",
    "print(df)\n",
    "for i in df:\n",
    "    print(i)"
   ]
  },
  {
   "cell_type": "code",
   "execution_count": 7,
   "metadata": {},
   "outputs": [
    {
     "ename": "ModuleNotFoundError",
     "evalue": "No module named 'urllib2'",
     "output_type": "error",
     "traceback": [
      "\u001b[1;31m---------------------------------------------------------------------------\u001b[0m",
      "\u001b[1;31mModuleNotFoundError\u001b[0m                       Traceback (most recent call last)",
      "\u001b[1;32m<ipython-input-7-54deb3b2e1b0>\u001b[0m in \u001b[0;36m<module>\u001b[1;34m()\u001b[0m\n\u001b[0;32m      1\u001b[0m \u001b[1;31m#XML和HTML\u001b[0m\u001b[1;33m\u001b[0m\u001b[1;33m\u001b[0m\u001b[0m\n\u001b[0;32m      2\u001b[0m \u001b[1;32mfrom\u001b[0m \u001b[0mlxml\u001b[0m\u001b[1;33m.\u001b[0m\u001b[0mhtml\u001b[0m \u001b[1;32mimport\u001b[0m \u001b[0mparse\u001b[0m\u001b[1;33m\u001b[0m\u001b[0m\n\u001b[1;32m----> 3\u001b[1;33m \u001b[1;32mfrom\u001b[0m \u001b[0murllib2\u001b[0m \u001b[1;32mimport\u001b[0m \u001b[0murlopen\u001b[0m\u001b[1;33m\u001b[0m\u001b[0m\n\u001b[0m\u001b[0;32m      4\u001b[0m \u001b[0mparsed\u001b[0m \u001b[1;33m=\u001b[0m \u001b[0mparse\u001b[0m\u001b[1;33m(\u001b[0m\u001b[0murlopen\u001b[0m\u001b[1;33m(\u001b[0m\u001b[1;34m'http://b.appindata.com/#/manage/mobile_call_history'\u001b[0m\u001b[1;33m)\u001b[0m\u001b[1;33m)\u001b[0m\u001b[1;33m\u001b[0m\u001b[0m\n\u001b[0;32m      5\u001b[0m \u001b[0mdoc\u001b[0m \u001b[1;33m=\u001b[0m \u001b[0mparsed\u001b[0m\u001b[1;33m.\u001b[0m\u001b[0mgetroot\u001b[0m\u001b[1;33m(\u001b[0m\u001b[1;33m)\u001b[0m\u001b[1;33m\u001b[0m\u001b[0m\n",
      "\u001b[1;31mModuleNotFoundError\u001b[0m: No module named 'urllib2'"
     ]
    }
   ],
   "source": [
    "#XML和HTML\n",
    "from lxml.html import parse\n",
    "from urllib2 import urlopen\n",
    "parsed = parse(urlopen('http://b.appindata.com/#/manage/mobile_call_history'))\n",
    "doc = parsed.getroot()"
   ]
  },
  {
   "cell_type": "code",
   "execution_count": 10,
   "metadata": {},
   "outputs": [
    {
     "name": "stdout",
     "output_type": "stream",
     "text": [
      "   a   b   c   d message\n",
      "0  1   2   3   4   hello\n",
      "1  5   6   7   8   world\n",
      "2  9  10  11  12     foo\n"
     ]
    },
    {
     "ename": "AttributeError",
     "evalue": "'DataFrame' object has no attribute 'save'",
     "output_type": "error",
     "traceback": [
      "\u001b[1;31m---------------------------------------------------------------------------\u001b[0m",
      "\u001b[1;31mAttributeError\u001b[0m                            Traceback (most recent call last)",
      "\u001b[1;32m<ipython-input-10-26a401d17fae>\u001b[0m in \u001b[0;36m<module>\u001b[1;34m()\u001b[0m\n\u001b[0;32m      2\u001b[0m \u001b[0mf\u001b[0m \u001b[1;33m=\u001b[0m \u001b[0mpd\u001b[0m\u001b[1;33m.\u001b[0m\u001b[0mread_csv\u001b[0m\u001b[1;33m(\u001b[0m\u001b[1;34mr'C:\\Users\\123\\Desktop\\ex1.csv'\u001b[0m\u001b[1;33m)\u001b[0m\u001b[1;33m\u001b[0m\u001b[0m\n\u001b[0;32m      3\u001b[0m \u001b[0mprint\u001b[0m\u001b[1;33m(\u001b[0m\u001b[0mf\u001b[0m\u001b[1;33m)\u001b[0m\u001b[1;33m\u001b[0m\u001b[0m\n\u001b[1;32m----> 4\u001b[1;33m \u001b[0mf\u001b[0m\u001b[1;33m.\u001b[0m\u001b[0msave\u001b[0m\u001b[1;33m(\u001b[0m\u001b[1;34mr'C:\\Users\\123\\Desktop\\ex1.pkl'\u001b[0m\u001b[1;33m)\u001b[0m\u001b[1;33m\u001b[0m\u001b[0m\n\u001b[0m",
      "\u001b[1;32mD:\\anaconda3\\lib\\site-packages\\pandas\\core\\generic.py\u001b[0m in \u001b[0;36m__getattr__\u001b[1;34m(self, name)\u001b[0m\n\u001b[0;32m   4374\u001b[0m             \u001b[1;32mif\u001b[0m \u001b[0mself\u001b[0m\u001b[1;33m.\u001b[0m\u001b[0m_info_axis\u001b[0m\u001b[1;33m.\u001b[0m\u001b[0m_can_hold_identifiers_and_holds_name\u001b[0m\u001b[1;33m(\u001b[0m\u001b[0mname\u001b[0m\u001b[1;33m)\u001b[0m\u001b[1;33m:\u001b[0m\u001b[1;33m\u001b[0m\u001b[0m\n\u001b[0;32m   4375\u001b[0m                 \u001b[1;32mreturn\u001b[0m \u001b[0mself\u001b[0m\u001b[1;33m[\u001b[0m\u001b[0mname\u001b[0m\u001b[1;33m]\u001b[0m\u001b[1;33m\u001b[0m\u001b[0m\n\u001b[1;32m-> 4376\u001b[1;33m             \u001b[1;32mreturn\u001b[0m \u001b[0mobject\u001b[0m\u001b[1;33m.\u001b[0m\u001b[0m__getattribute__\u001b[0m\u001b[1;33m(\u001b[0m\u001b[0mself\u001b[0m\u001b[1;33m,\u001b[0m \u001b[0mname\u001b[0m\u001b[1;33m)\u001b[0m\u001b[1;33m\u001b[0m\u001b[0m\n\u001b[0m\u001b[0;32m   4377\u001b[0m \u001b[1;33m\u001b[0m\u001b[0m\n\u001b[0;32m   4378\u001b[0m     \u001b[1;32mdef\u001b[0m \u001b[0m__setattr__\u001b[0m\u001b[1;33m(\u001b[0m\u001b[0mself\u001b[0m\u001b[1;33m,\u001b[0m \u001b[0mname\u001b[0m\u001b[1;33m,\u001b[0m \u001b[0mvalue\u001b[0m\u001b[1;33m)\u001b[0m\u001b[1;33m:\u001b[0m\u001b[1;33m\u001b[0m\u001b[0m\n",
      "\u001b[1;31mAttributeError\u001b[0m: 'DataFrame' object has no attribute 'save'"
     ]
    }
   ],
   "source": [
    "#二进制数据格式（pickle）\n",
    "f = pd.read_csv(r'C:\\Users\\123\\Desktop\\ex1.csv')\n",
    "print(f)\n",
    "f.save(r'C:\\Users\\123\\Desktop\\ex1.pkl')"
   ]
  },
  {
   "cell_type": "code",
   "execution_count": null,
   "metadata": {},
   "outputs": [],
   "source": []
  },
  {
   "cell_type": "code",
   "execution_count": null,
   "metadata": {},
   "outputs": [],
   "source": []
  }
 ],
 "metadata": {
  "kernelspec": {
   "display_name": "Python 3",
   "language": "python",
   "name": "python3"
  },
  "language_info": {
   "codemirror_mode": {
    "name": "ipython",
    "version": 3
   },
   "file_extension": ".py",
   "mimetype": "text/x-python",
   "name": "python",
   "nbconvert_exporter": "python",
   "pygments_lexer": "ipython3",
   "version": "3.7.0"
  }
 },
 "nbformat": 4,
 "nbformat_minor": 2
}
