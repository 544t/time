{
 "cells": [
  {
   "cell_type": "code",
   "execution_count": 8,
   "metadata": {},
   "outputs": [
    {
     "name": "stdout",
     "output_type": "stream",
     "text": [
      "0     apple\n",
      "1    orange\n",
      "2     apple\n",
      "3     apple\n",
      "4     apple\n",
      "5    orange\n",
      "6     apple\n",
      "7     apple\n",
      "dtype: object\n",
      "['apple' 'orange']\n",
      "apple     6\n",
      "orange    2\n",
      "dtype: int64\n",
      "\n",
      "--------------------\n",
      "0    0\n",
      "1    1\n",
      "2    0\n",
      "3    0\n",
      "4    0\n",
      "5    1\n",
      "6    0\n",
      "7    0\n",
      "dtype: int64\n",
      "0     apple\n",
      "1    orange\n",
      "dtype: object\n",
      "\n",
      "---------分类----------\n",
      "0     apple\n",
      "1    orange\n",
      "0     apple\n",
      "0     apple\n",
      "0     apple\n",
      "1    orange\n",
      "0     apple\n",
      "0     apple\n",
      "dtype: object\n"
     ]
    }
   ],
   "source": [
    "import numpy as np\n",
    "import pandas as pd\n",
    "#数据分类\n",
    "import numpy as np; import pandas as pd\n",
    "values = pd.Series(['apple', 'orange', 'apple',\n",
    "                    'apple'] * 2)\n",
    "print(values)\n",
    "print(values.unique())\n",
    "print(pd.value_counts(values))\n",
    "\n",
    "print('\\n--------------------')\n",
    "\n",
    "values = pd.Series([0, 1, 0, 0] * 2)\n",
    "dim = pd.Series(['apple', 'orange'])\n",
    "print(values)\n",
    "print(dim)\n",
    "print('\\n---------分类----------')\n",
    "print(dim.take(values))"
   ]
  },
  {
   "cell_type": "code",
   "execution_count": 9,
   "metadata": {},
   "outputs": [
    {
     "data": {
      "text/html": [
       "<div>\n",
       "<style scoped>\n",
       "    .dataframe tbody tr th:only-of-type {\n",
       "        vertical-align: middle;\n",
       "    }\n",
       "\n",
       "    .dataframe tbody tr th {\n",
       "        vertical-align: top;\n",
       "    }\n",
       "\n",
       "    .dataframe thead th {\n",
       "        text-align: right;\n",
       "    }\n",
       "</style>\n",
       "<table border=\"1\" class=\"dataframe\">\n",
       "  <thead>\n",
       "    <tr style=\"text-align: right;\">\n",
       "      <th></th>\n",
       "      <th>basket_id</th>\n",
       "      <th>fruit</th>\n",
       "      <th>count</th>\n",
       "      <th>weight</th>\n",
       "    </tr>\n",
       "  </thead>\n",
       "  <tbody>\n",
       "    <tr>\n",
       "      <th>0</th>\n",
       "      <td>0</td>\n",
       "      <td>apple</td>\n",
       "      <td>6</td>\n",
       "      <td>3.486646</td>\n",
       "    </tr>\n",
       "    <tr>\n",
       "      <th>1</th>\n",
       "      <td>1</td>\n",
       "      <td>orange</td>\n",
       "      <td>9</td>\n",
       "      <td>2.232880</td>\n",
       "    </tr>\n",
       "    <tr>\n",
       "      <th>2</th>\n",
       "      <td>2</td>\n",
       "      <td>apple</td>\n",
       "      <td>14</td>\n",
       "      <td>3.629638</td>\n",
       "    </tr>\n",
       "    <tr>\n",
       "      <th>3</th>\n",
       "      <td>3</td>\n",
       "      <td>apple</td>\n",
       "      <td>5</td>\n",
       "      <td>0.324266</td>\n",
       "    </tr>\n",
       "    <tr>\n",
       "      <th>4</th>\n",
       "      <td>4</td>\n",
       "      <td>apple</td>\n",
       "      <td>13</td>\n",
       "      <td>3.674880</td>\n",
       "    </tr>\n",
       "    <tr>\n",
       "      <th>5</th>\n",
       "      <td>5</td>\n",
       "      <td>orange</td>\n",
       "      <td>10</td>\n",
       "      <td>2.738609</td>\n",
       "    </tr>\n",
       "    <tr>\n",
       "      <th>6</th>\n",
       "      <td>6</td>\n",
       "      <td>apple</td>\n",
       "      <td>11</td>\n",
       "      <td>1.663595</td>\n",
       "    </tr>\n",
       "    <tr>\n",
       "      <th>7</th>\n",
       "      <td>7</td>\n",
       "      <td>apple</td>\n",
       "      <td>8</td>\n",
       "      <td>1.913471</td>\n",
       "    </tr>\n",
       "  </tbody>\n",
       "</table>\n",
       "</div>"
      ],
      "text/plain": [
       "   basket_id   fruit  count    weight\n",
       "0          0   apple      6  3.486646\n",
       "1          1  orange      9  2.232880\n",
       "2          2   apple     14  3.629638\n",
       "3          3   apple      5  0.324266\n",
       "4          4   apple     13  3.674880\n",
       "5          5  orange     10  2.738609\n",
       "6          6   apple     11  1.663595\n",
       "7          7   apple      8  1.913471"
      ]
     },
     "execution_count": 9,
     "metadata": {},
     "output_type": "execute_result"
    }
   ],
   "source": [
    "fruits = ['apple', 'orange', 'apple', 'apple'] * 2\n",
    "N = len(fruits)\n",
    "df = pd.DataFrame({'fruit': fruits,\n",
    "                   'basket_id': np.arange(N),\n",
    "                   'count': np.random.randint(3, 15, size=N),\n",
    "                   'weight': np.random.uniform(0, 4, size=N)},\n",
    "                  columns=['basket_id', 'fruit', 'count', 'weight'])\n",
    "df"
   ]
  },
  {
   "cell_type": "code",
   "execution_count": 18,
   "metadata": {},
   "outputs": [
    {
     "name": "stdout",
     "output_type": "stream",
     "text": [
      "0     apple\n",
      "1    orange\n",
      "2     apple\n",
      "3     apple\n",
      "4     apple\n",
      "5    orange\n",
      "6     apple\n",
      "7     apple\n",
      "Name: fruit, dtype: category\n",
      "Categories (2, object): [apple, orange]\n",
      "[apple, orange, apple, apple, apple, orange, apple, apple]\n",
      "Categories (2, object): [apple, orange]\n",
      "<class 'pandas.core.arrays.categorical.Categorical'>\n",
      "\n",
      "------------------------\n",
      "Index(['apple', 'orange'], dtype='object')\n",
      "[0 1 0 0 0 1 0 0]\n"
     ]
    }
   ],
   "source": [
    "#将python数据转换为分类（categorical）\n",
    "fruit_cat = df['fruit'].astype('category')\n",
    "print(fruit_cat)#注意他的数据类型\n",
    "c = fruit_cat.values#注意这里没有括号\n",
    "print(c)\n",
    "print(type(c))\n",
    "print('\\n------------------------')\n",
    "print(c.categories)\n",
    "print(c.codes)"
   ]
  },
  {
   "cell_type": "code",
   "execution_count": 20,
   "metadata": {},
   "outputs": [
    {
     "name": "stdout",
     "output_type": "stream",
     "text": [
      "[foo, bar, baz, foo, bar]\n",
      "Categories (3, object): [bar, baz, foo]\n",
      "[foo, bar, baz, foo, foo, bar]\n",
      "Categories (3, object): [foo, bar, baz]\n"
     ]
    }
   ],
   "source": [
    "my_categories = pd.Categorical(['foo', 'bar', 'baz', 'foo', 'bar'])\n",
    "print(my_categories)\n",
    "#from_codes\n",
    "#从其他源获得分类和分类编码\n",
    "categories = ['foo', 'bar', 'baz']\n",
    "codes = [0, 1, 2, 0, 0, 1]\n",
    "my_cat = pd.Categorical.from_codes(codes,categories)\n",
    "print(my_cat)"
   ]
  },
  {
   "cell_type": "code",
   "execution_count": 24,
   "metadata": {},
   "outputs": [
    {
     "name": "stdout",
     "output_type": "stream",
     "text": [
      "[foo, bar, baz, foo, foo, bar]\n",
      "Categories (3, object): [foo < bar < baz]\n"
     ]
    },
    {
     "data": {
      "text/plain": [
       "[foo, bar, baz, foo, foo, bar]\n",
       "Categories (3, object): [foo < bar < baz]"
      ]
     },
     "execution_count": 24,
     "metadata": {},
     "output_type": "execute_result"
    }
   ],
   "source": [
    "#加入排序 ordered=True\n",
    "ordered_cat = pd.Categorical.from_codes(codes, categories,\n",
    "                                        ordered=True)\n",
    "print(ordered_cat)\n",
    "my_cat.as_ordered()"
   ]
  },
  {
   "cell_type": "code",
   "execution_count": 29,
   "metadata": {},
   "outputs": [
    {
     "name": "stdout",
     "output_type": "stream",
     "text": [
      "[(-0.684, -0.0101], (-0.0101, 0.63], (-0.684, -0.0101], (-0.684, -0.0101], (0.63, 3.928], ..., (-0.0101, 0.63], (-0.684, -0.0101], (-2.9499999999999997, -0.684], (-0.0101, 0.63], (0.63, 3.928]]\n",
      "Length: 1000\n",
      "Categories (4, interval[float64]): [(-2.9499999999999997, -0.684] < (-0.684, -0.0101] < (-0.0101, 0.63] < (0.63, 3.928]]\n",
      "[Q2, Q3, Q2, Q2, Q4, ..., Q3, Q2, Q1, Q3, Q4]\n",
      "Length: 1000\n",
      "Categories (4, object): [Q1 < Q2 < Q3 < Q4]\n"
     ]
    }
   ],
   "source": [
    "np.random.seed(12345)\n",
    "draws = np.random.randn(1000)\n",
    "draws[:5]\n",
    "bins = pd.qcut(draws, 4)\n",
    "print(bins)\n",
    "bins = pd.qcut(draws, 4,labels = ['Q1','Q2','Q3','Q4'])\n",
    "print(bins)"
   ]
  },
  {
   "cell_type": "code",
   "execution_count": 36,
   "metadata": {},
   "outputs": [
    {
     "data": {
      "text/plain": [
       "0    Q1\n",
       "1    Q2\n",
       "2    Q3\n",
       "3    Q4\n",
       "Name: quartile, dtype: category\n",
       "Categories (4, object): [Q1 < Q2 < Q3 < Q4]"
      ]
     },
     "execution_count": 36,
     "metadata": {},
     "output_type": "execute_result"
    }
   ],
   "source": [
    "#使用groupby\n",
    "bins = pd.Series(bins,name = 'quartile')\n",
    "res = pd.Series(draws).groupby(bins).agg(['count','min','max']).reset_index()\n",
    "# print(bins)\n",
    "res['quartile']"
   ]
  },
  {
   "cell_type": "code",
   "execution_count": 33,
   "metadata": {},
   "outputs": [],
   "source": [
    "# draws.groupby(bins).agg(['count','min','max']).reset_index()\n",
    "# AttributeError: 'numpy.ndarray' object has no attribute 'groupby'\n",
    "#一个报错：numpy数组没有groupby()!!!"
   ]
  },
  {
   "cell_type": "code",
   "execution_count": 44,
   "metadata": {},
   "outputs": [
    {
     "name": "stdout",
     "output_type": "stream",
     "text": [
      "144\n",
      "280\n",
      "Wall time: 0 ns\n"
     ]
    }
   ],
   "source": [
    "#用分类提高性能（n = 10000000）\n",
    "n = 10000000\n",
    "pd.Series(np.random.randn(n))\n",
    "labels = pd.Series(['foo', 'bar', 'baz', 'qux'] * (N // 4))\n",
    "c = labels.astype('category')\n",
    "print(labels.memory_usage())\n",
    "print(c.memory_usage())\n",
    "%time _ = labels.astype('category')"
   ]
  },
  {
   "cell_type": "code",
   "execution_count": 48,
   "metadata": {},
   "outputs": [
    {
     "name": "stdout",
     "output_type": "stream",
     "text": [
      "0    a\n",
      "1    b\n",
      "2    c\n",
      "3    d\n",
      "4    a\n",
      "5    b\n",
      "6    c\n",
      "7    d\n",
      "dtype: category\n",
      "Categories (4, object): [a, b, c, d]\n",
      "-------------------------\n",
      "Index(['a', 'b', 'c', 'd'], dtype='object')\n",
      "0    0\n",
      "1    1\n",
      "2    2\n",
      "3    3\n",
      "4    0\n",
      "5    1\n",
      "6    2\n",
      "7    3\n",
      "dtype: int8\n"
     ]
    }
   ],
   "source": [
    "#分类方法\n",
    "s = pd.Series(['a', 'b', 'c', 'd'] * 2)\n",
    "cat_s = s.astype('category')\n",
    "print(cat_s)\n",
    "# cat属性提供了分类⽅法的⼊⼝\n",
    "print('-------------------------')\n",
    "print(cat_s.cat.categories)\n",
    "print(cat_s.cat.codes)"
   ]
  },
  {
   "cell_type": "code",
   "execution_count": 52,
   "metadata": {},
   "outputs": [
    {
     "name": "stdout",
     "output_type": "stream",
     "text": [
      "0    a\n",
      "1    b\n",
      "2    c\n",
      "3    d\n",
      "4    a\n",
      "5    b\n",
      "6    c\n",
      "7    d\n",
      "dtype: category\n",
      "Categories (5, object): [a, b, c, d, e]\n",
      "\n",
      "---------新的分类将反映在它们的操作中-----------\n",
      "d    2\n",
      "c    2\n",
      "b    2\n",
      "a    2\n",
      "dtype: int64\n",
      "d    2\n",
      "c    2\n",
      "b    2\n",
      "a    2\n",
      "e    0\n",
      "dtype: int64\n"
     ]
    }
   ],
   "source": [
    "#实际的分类比s长，可重新设categories\n",
    "actual_categories = ['a', 'b', 'c', 'd', 'e']\n",
    "cat_s2 = cat_s.cat.set_categories(actual_categories)\n",
    "print(cat_s2)\n",
    "print('\\n---------新的分类将反映在它们的操作中-----------')\n",
    "print(cat_s.value_counts())\n",
    "print(cat_s2.value_counts())"
   ]
  },
  {
   "cell_type": "code",
   "execution_count": 60,
   "metadata": {},
   "outputs": [
    {
     "name": "stdout",
     "output_type": "stream",
     "text": [
      "0    a\n",
      "1    b\n",
      "4    a\n",
      "5    b\n",
      "dtype: category\n",
      "Categories (4, object): [a, b, c, d]\n",
      "0    a\n",
      "1    b\n",
      "4    a\n",
      "5    b\n",
      "dtype: category\n",
      "Categories (2, object): [a, b]\n"
     ]
    }
   ],
   "source": [
    "'''在打数据集中，分类经常作为节省内存和⾼性能的便捷⼯具。过\n",
    "滤完⼤DataFrame或Series之后，许多分类可能不会出现在数据\n",
    "中。我们可以使⽤remove_unused_categories⽅法删除没看到\n",
    "的分类'''\n",
    "#其实没怎么看懂\n",
    "cat_s3 = cat_s[cat_s.isin(['a','b'])]\n",
    "print(cat_s3)\n",
    "cat_s4 = cat_s3.cat.remove_unused_categories()\n",
    "print(cat_s4)             "
   ]
  },
  {
   "cell_type": "code",
   "execution_count": 62,
   "metadata": {},
   "outputs": [
    {
     "name": "stdout",
     "output_type": "stream",
     "text": [
      "0    a\n",
      "1    b\n",
      "2    c\n",
      "3    d\n",
      "4    a\n",
      "5    b\n",
      "6    c\n",
      "7    d\n",
      "dtype: category\n",
      "Categories (4, object): [a, b, c, d]\n",
      "   a  b  c  d\n",
      "0  1  0  0  0\n",
      "1  0  1  0  0\n",
      "2  0  0  1  0\n",
      "3  0  0  0  1\n",
      "4  1  0  0  0\n",
      "5  0  1  0  0\n",
      "6  0  0  1  0\n",
      "7  0  0  0  1\n"
     ]
    }
   ],
   "source": [
    "# 为建模创建虚拟变量\n",
    "cat_s = pd.Series(['a', 'b', 'c', 'd'] * 2, dtype='category')\n",
    "print(cat_s)\n",
    "print(pd.get_dummies(cat_s))"
   ]
  },
  {
   "cell_type": "code",
   "execution_count": 75,
   "metadata": {},
   "outputs": [
    {
     "name": "stdout",
     "output_type": "stream",
     "text": [
      "   key  value\n",
      "0    a    0.0\n",
      "1    b    1.0\n",
      "2    c    2.0\n",
      "3    a    3.0\n",
      "4    b    4.0\n",
      "5    c    5.0\n",
      "6    a    6.0\n",
      "7    b    7.0\n",
      "8    c    8.0\n",
      "9    a    9.0\n",
      "10   b   10.0\n",
      "11   c   11.0\n",
      "key\n",
      "a    4.5\n",
      "b    5.5\n",
      "c    6.5\n",
      "Name: value, dtype: float64\n",
      "\n",
      "---------transform-------\n",
      "0     4.5\n",
      "1     5.5\n",
      "2     6.5\n",
      "3     4.5\n",
      "4     5.5\n",
      "5     6.5\n",
      "6     4.5\n",
      "7     5.5\n",
      "8     6.5\n",
      "9     4.5\n",
      "10    5.5\n",
      "11    6.5\n",
      "Name: value, dtype: float64\n"
     ]
    },
    {
     "data": {
      "text/plain": [
       "0     4.5\n",
       "1     5.5\n",
       "2     6.5\n",
       "3     4.5\n",
       "4     5.5\n",
       "5     6.5\n",
       "6     4.5\n",
       "7     5.5\n",
       "8     6.5\n",
       "9     4.5\n",
       "10    5.5\n",
       "11    6.5\n",
       "Name: value, dtype: float64"
      ]
     },
     "execution_count": 75,
     "metadata": {},
     "output_type": "execute_result"
    }
   ],
   "source": [
    "#transform()\n",
    "df = pd.DataFrame({'key': ['a', 'b', 'c'] * 4,\n",
    "                   'value': np.arange(12.)})\n",
    "print(df)\n",
    "g = df.groupby('key').value\n",
    "print(g.mean())\n",
    "print('\\n---------transform-------')\n",
    "# 等价于\n",
    "print(g.transform('mean'))\n",
    "g.transform(lambda x: x.mean())"
   ]
  },
  {
   "cell_type": "code",
   "execution_count": 77,
   "metadata": {},
   "outputs": [
    {
     "name": "stdout",
     "output_type": "stream",
     "text": [
      "0      0.0\n",
      "1      2.0\n",
      "2      4.0\n",
      "3      6.0\n",
      "4      8.0\n",
      "5     10.0\n",
      "6     12.0\n",
      "7     14.0\n",
      "8     16.0\n",
      "9     18.0\n",
      "10    20.0\n",
      "11    22.0\n",
      "Name: value, dtype: float64\n",
      "0     4.0\n",
      "1     4.0\n",
      "2     4.0\n",
      "3     3.0\n",
      "4     3.0\n",
      "5     3.0\n",
      "6     2.0\n",
      "7     2.0\n",
      "8     2.0\n",
      "9     1.0\n",
      "10    1.0\n",
      "11    1.0\n",
      "Name: value, dtype: float64\n"
     ]
    }
   ],
   "source": [
    "print(g.transform(lambda x:x*2))\n",
    "print(g.transform(lambda x:x.rank(ascending = False)))"
   ]
  },
  {
   "cell_type": "code",
   "execution_count": 80,
   "metadata": {
    "scrolled": true
   },
   "outputs": [
    {
     "name": "stdout",
     "output_type": "stream",
     "text": [
      "----------transform-----------\n",
      "0    -1.161895\n",
      "1    -1.161895\n",
      "2    -1.161895\n",
      "3    -0.387298\n",
      "4    -0.387298\n",
      "5    -0.387298\n",
      "6     0.387298\n",
      "7     0.387298\n",
      "8     0.387298\n",
      "9     1.161895\n",
      "10    1.161895\n",
      "11    1.161895\n",
      "Name: value, dtype: float64\n",
      "----------apply-----------\n",
      "0    -1.161895\n",
      "1    -1.161895\n",
      "2    -1.161895\n",
      "3    -0.387298\n",
      "4    -0.387298\n",
      "5    -0.387298\n",
      "6     0.387298\n",
      "7     0.387298\n",
      "8     0.387298\n",
      "9     1.161895\n",
      "10    1.161895\n",
      "11    1.161895\n",
      "Name: value, dtype: float64\n"
     ]
    }
   ],
   "source": [
    "def normalize(x):\n",
    "    return (x-x.mean())/x.std()\n",
    "print('----------transform-----------')\n",
    "print(g.transform(normalize))#其实就是Z\n",
    "print('----------apply-----------')\n",
    "print(g.apply(normalize))"
   ]
  },
  {
   "cell_type": "code",
   "execution_count": 81,
   "metadata": {},
   "outputs": [
    {
     "name": "stdout",
     "output_type": "stream",
     "text": [
      "0    -1.161895\n",
      "1    -1.161895\n",
      "2    -1.161895\n",
      "3    -0.387298\n",
      "4    -0.387298\n",
      "5    -0.387298\n",
      "6     0.387298\n",
      "7     0.387298\n",
      "8     0.387298\n",
      "9     1.161895\n",
      "10    1.161895\n",
      "11    1.161895\n",
      "Name: value, dtype: float64\n"
     ]
    }
   ],
   "source": [
    "normalize = (df['value']-g.transform('mean'))/g.transform('std')\n",
    "print(normalize)"
   ]
  },
  {
   "cell_type": "code",
   "execution_count": 84,
   "metadata": {},
   "outputs": [
    {
     "name": "stdout",
     "output_type": "stream",
     "text": [
      "                 time  value\n",
      "0 2017-05-20 00:00:00      0\n",
      "1 2017-05-20 00:01:00      1\n",
      "2 2017-05-20 00:02:00      2\n",
      "3 2017-05-20 00:03:00      3\n",
      "4 2017-05-20 00:04:00      4\n"
     ]
    },
    {
     "data": {
      "text/html": [
       "<div>\n",
       "<style scoped>\n",
       "    .dataframe tbody tr th:only-of-type {\n",
       "        vertical-align: middle;\n",
       "    }\n",
       "\n",
       "    .dataframe tbody tr th {\n",
       "        vertical-align: top;\n",
       "    }\n",
       "\n",
       "    .dataframe thead th {\n",
       "        text-align: right;\n",
       "    }\n",
       "</style>\n",
       "<table border=\"1\" class=\"dataframe\">\n",
       "  <thead>\n",
       "    <tr style=\"text-align: right;\">\n",
       "      <th></th>\n",
       "      <th>value</th>\n",
       "    </tr>\n",
       "    <tr>\n",
       "      <th>time</th>\n",
       "      <th></th>\n",
       "    </tr>\n",
       "  </thead>\n",
       "  <tbody>\n",
       "    <tr>\n",
       "      <th>2017-05-20 00:00:00</th>\n",
       "      <td>5</td>\n",
       "    </tr>\n",
       "    <tr>\n",
       "      <th>2017-05-20 00:05:00</th>\n",
       "      <td>5</td>\n",
       "    </tr>\n",
       "    <tr>\n",
       "      <th>2017-05-20 00:10:00</th>\n",
       "      <td>5</td>\n",
       "    </tr>\n",
       "  </tbody>\n",
       "</table>\n",
       "</div>"
      ],
      "text/plain": [
       "                     value\n",
       "time                      \n",
       "2017-05-20 00:00:00      5\n",
       "2017-05-20 00:05:00      5\n",
       "2017-05-20 00:10:00      5"
      ]
     },
     "execution_count": 84,
     "metadata": {},
     "output_type": "execute_result"
    }
   ],
   "source": [
    "# 分组的时间重采样\n",
    "N = 15\n",
    "times = pd.date_range('2017-05-20 00:00', freq='1min', periods=N)\n",
    "df = pd.DataFrame({'time': times,\n",
    "                   'value': np.arange(N)})\n",
    "print(df.head())\n",
    "#重采样\n",
    "df.set_index('time').resample('5min').count()"
   ]
  },
  {
   "cell_type": "code",
   "execution_count": 91,
   "metadata": {
    "scrolled": true
   },
   "outputs": [
    {
     "name": "stdout",
     "output_type": "stream",
     "text": [
      "                 time key  value\n",
      "0 2017-05-20 00:00:00   a    0.0\n",
      "1 2017-05-20 00:00:00   b    1.0\n",
      "2 2017-05-20 00:00:00   c    2.0\n",
      "3 2017-05-20 00:01:00   a    3.0\n",
      "4 2017-05-20 00:01:00   b    4.0\n",
      "5 2017-05-20 00:01:00   c    5.0\n",
      "6 2017-05-20 00:02:00   a    6.0\n",
      "TimeGrouper(freq=<5 * Minutes>, axis=0, sort=True, closed='left', label='left', how='mean', convention='e', base=0)\n",
      "                         value\n",
      "key time                      \n",
      "a   2017-05-20 00:00:00   30.0\n",
      "    2017-05-20 00:05:00  105.0\n",
      "    2017-05-20 00:10:00  180.0\n",
      "b   2017-05-20 00:00:00   35.0\n",
      "    2017-05-20 00:05:00  110.0\n",
      "    2017-05-20 00:10:00  185.0\n",
      "c   2017-05-20 00:00:00   40.0\n",
      "    2017-05-20 00:05:00  115.0\n",
      "    2017-05-20 00:10:00  190.0\n",
      "  key                time  value\n",
      "0   a 2017-05-20 00:00:00   30.0\n",
      "1   a 2017-05-20 00:05:00  105.0\n",
      "2   a 2017-05-20 00:10:00  180.0\n",
      "3   b 2017-05-20 00:00:00   35.0\n",
      "4   b 2017-05-20 00:05:00  110.0\n",
      "5   b 2017-05-20 00:10:00  185.0\n",
      "6   c 2017-05-20 00:00:00   40.0\n",
      "7   c 2017-05-20 00:05:00  115.0\n",
      "8   c 2017-05-20 00:10:00  190.0\n"
     ]
    },
    {
     "name": "stderr",
     "output_type": "stream",
     "text": [
      "D:\\anaconda3\\lib\\site-packages\\ipykernel_launcher.py:5: FutureWarning: pd.TimeGrouper is deprecated and will be removed; Please use pd.Grouper(freq=...)\n",
      "  \"\"\"\n"
     ]
    }
   ],
   "source": [
    "df2 = pd.DataFrame({'time': times.repeat(3),\n",
    "                    'key': np.tile(['a', 'b', 'c'], N),\n",
    "                    'value': np.arange(N * 3.)})\n",
    "print(df2.head(7))\n",
    "time_key = pd.TimeGrouper('5min')\n",
    "print(time_key)\n",
    "red = df2.set_index('time').groupby(['key',time_key]).sum()\n",
    "print(red)\n",
    "print(red.reset_index())"
   ]
  },
  {
   "cell_type": "code",
   "execution_count": 94,
   "metadata": {},
   "outputs": [
    {
     "data": {
      "text/plain": [
       "\"df = load_data()\\ndf2 = df[df['col2']<0]\\ndf2['col1_demeaned'] = df2['col1'] - df2['col1'].mean()\\nre = df2.groupby('key').col1_demeaned.std()\""
      ]
     },
     "execution_count": 94,
     "metadata": {},
     "output_type": "execute_result"
    }
   ],
   "source": [
    "# 链式编程技术\n",
    "'''df = load_data()\n",
    "df2 = df[df['col2']<0]\n",
    "df2['col1_demeaned'] = df2['col1'] - df2['col1'].mean()\n",
    "re = df2.groupby('key').col1_demeaned.std()'''"
   ]
  },
  {
   "cell_type": "code",
   "execution_count": 96,
   "metadata": {},
   "outputs": [
    {
     "data": {
      "text/plain": [
       "\"df2 = df.copy()\\ndf2['k'] = v\\ndf2 = df.assign(k=v)\""
      ]
     },
     "execution_count": 96,
     "metadata": {},
     "output_type": "execute_result"
    }
   ],
   "source": [
    "'''df2 = df.copy()\n",
    "df2['k'] = v\n",
    "df2 = df.assign(k=v)'''\n",
    "#等价"
   ]
  },
  {
   "cell_type": "code",
   "execution_count": null,
   "metadata": {},
   "outputs": [],
   "source": [
    "df = load_data()\n",
    "df2 = df[df['col2'] < 0]\n",
    "#重写为\n",
    "df = load_data()lambda x:x['col2']<0\n"
   ]
  },
  {
   "cell_type": "code",
   "execution_count": null,
   "metadata": {},
   "outputs": [],
   "source": [
    "#单链表达式\n",
    "result = (df2.assign(col1_demeaned=df2.col1 - df2.col2.mean())\n",
    "          .groupby('key')\n",
    "          .col1_demeaned.std())\n",
    "res = (load_data()lambda x:x['col2']<0\n",
    "      .assign(col1_demeaned=df2.col1 - df2.col2.mean()\n",
    "      .groupby('key')\n",
    "      .col1_demeaned.std())"
   ]
  },
  {
   "cell_type": "code",
   "execution_count": null,
   "metadata": {},
   "outputs": [],
   "source": [
    "# f(df)和df.pipe(f)是等价的，但是pipe使得链式声明更容易\n",
    "#不懂！！！！\n",
    "a = f(df, arg1=v1)\n",
    "b = g(a, v2, arg3=v3)\n",
    "c = h(b, arg4=v4)\n",
    "等价于\n",
    "result = (df.pipe(f, arg1=v1)\n",
    ".pipe(g, v2, arg3=v3)\n",
    ".pipe(h, arg4=v4))"
   ]
  },
  {
   "cell_type": "code",
   "execution_count": 98,
   "metadata": {},
   "outputs": [
    {
     "data": {
      "text/plain": [
       "'pipe的另⼀个有⽤的地⽅是提炼操作为可复⽤的函数。看⼀个从\\n列减去分组⽅法的例⼦：'"
      ]
     },
     "execution_count": 98,
     "metadata": {},
     "output_type": "execute_result"
    }
   ],
   "source": [
    "'''pipe的另⼀个有⽤的地⽅是提炼操作为可复⽤的函数。看⼀个从\n",
    "列减去分组⽅法的例⼦：'''\n",
    "g = df.groupby(['key1','key2'])\n",
    "df['col1'] = df['col1'] - g.transform('mean')\n"
   ]
  },
  {
   "cell_type": "code",
   "execution_count": null,
   "metadata": {},
   "outputs": [],
   "source": [
    "def group_demean(df, by, cols):\n",
    "result = df.copy()\n",
    "g = df.groupby(by)\n",
    "for c in cols:\n",
    "result[c] = df[c] - g[c].transform('mean')"
   ]
  }
 ],
 "metadata": {
  "kernelspec": {
   "display_name": "Python 3",
   "language": "python",
   "name": "python3"
  },
  "language_info": {
   "codemirror_mode": {
    "name": "ipython",
    "version": 3
   },
   "file_extension": ".py",
   "mimetype": "text/x-python",
   "name": "python",
   "nbconvert_exporter": "python",
   "pygments_lexer": "ipython3",
   "version": "3.7.0"
  }
 },
 "nbformat": 4,
 "nbformat_minor": 2
}
