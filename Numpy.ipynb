{
 "cells": [
  {
   "cell_type": "markdown",
   "metadata": {},
   "source": [
    "第四章Numpy基础：数组与向量化计算"
   ]
  },
  {
   "cell_type": "code",
   "execution_count": 23,
   "metadata": {},
   "outputs": [
    {
     "name": "stdout",
     "output_type": "stream",
     "text": [
      "[[ 0.77990999  1.02762593 -0.24484262]\n",
      " [-1.50911421 -0.80471221  1.48064626]]\n",
      "[[  7.79909993  10.27625926  -2.44842624]\n",
      " [-15.09114206  -8.04712213  14.80646263]]\n",
      "[[ 1.55981999  2.05525185 -0.48968525]\n",
      " [-3.01822841 -1.60942443  2.96129253]]\n",
      "(2, 3) float64\n",
      "[1 2 3 4 5]\n",
      "[[1 2 3]\n",
      " [4 5 6]]\n",
      "[[1. 1. 1.]\n",
      " [1. 1. 1.]] [[0. 0. 0.]\n",
      " [0. 0. 0.]] [[0. 0. 0.]\n",
      " [0. 0. 0.]]\n",
      "[1 2 3]\n",
      "int32\n",
      "float64\n"
     ]
    },
    {
     "data": {
      "text/plain": [
       "array([1, 3, 4, 5], dtype=int64)"
      ]
     },
     "execution_count": 23,
     "metadata": {},
     "output_type": "execute_result"
    }
   ],
   "source": [
    "#4.1对位数组对象\n",
    "import numpy as np\n",
    "data = np.random.randn(2,3)\n",
    "print(data)\n",
    "print(data*10)#数组计算\n",
    "print(data+data)\n",
    "#每个数组都有shape，dtype属性\n",
    "print(data.shape,data.dtype)\n",
    "#生成数组（ndarray）\n",
    "a = np.array([1,2,3,4,5])\n",
    "print(a)\n",
    "b = np.array([[1,2,3],[4,5,6]])\n",
    "print(b)\n",
    "\n",
    "c = np.ones((2,3))\n",
    "d = np.zeros((2,3))\n",
    "e = np.empty((2,3))#注意这里两层括号，因为有三个参数（shape,dtype,order）\n",
    "print(c,d,e)\n",
    "\n",
    "f = np.array([1,2,3],dtype=np.int64)\n",
    "print(f)\n",
    "\n",
    "#astype转换数据类型\n",
    "arr = np.array([1,2,3,4,5])\n",
    "print(arr.dtype)\n",
    "arr2 = arr.astype(np.float64)\n",
    "print(arr2.dtype)\n",
    "arr3 = np.array([1.2,3.4,4.5,5.6])\n",
    "arr3.astype(np.int64)"
   ]
  },
  {
   "cell_type": "code",
   "execution_count": 46,
   "metadata": {},
   "outputs": [
    {
     "name": "stdout",
     "output_type": "stream",
     "text": [
      "[0 1 2 3 4 5 6 7 8 9]\n",
      "[ 0  1  2  3  4 12 12 12  8  9]\n",
      "[1 2 3]\n",
      "------对元素索引--------\n",
      "[[[ 0  1  2  3]\n",
      "  [ 4  5  6  7]\n",
      "  [ 8  9 10 11]]\n",
      "\n",
      " [[12 13 14 15]\n",
      "  [16 17 18 19]\n",
      "  [20 21 22 23]]]\n",
      "------------\n",
      "[[ 0  1  2  3]\n",
      " [ 4  5  6  7]\n",
      " [ 8  9 10 11]]\n",
      "------------\n",
      "[ 8  9 10 11]\n",
      "------------\n",
      "11\n",
      "------对切片索引--------\n",
      "[[[ 4  5  6  7]\n",
      "  [ 8  9 10 11]]]\n",
      "[[ 4  5  6  7]\n",
      " [ 8  9 10 11]]\n",
      "[[[9]]]\n"
     ]
    }
   ],
   "source": [
    "#索引与切片\n",
    "arr = np.arange(10)\n",
    "print(arr)\n",
    "arr[5:8] = 12\n",
    "print(arr)#数组的切片是源数组的视图，所以对切片的修改会直接反映在源数组\n",
    "#当我们不想改变源数组时：\n",
    "b = arr[1:4].copy() \n",
    "print(b)\n",
    "\n",
    "#对元素所索引\n",
    "print('------对元素索引--------')\n",
    "arr = np.arange(24).reshape(2,3,4)\n",
    "print(arr)\n",
    "print('------------')\n",
    "print(arr[0])\n",
    "print('------------')\n",
    "print(arr[0,2])\n",
    "print('------------')\n",
    "print(arr[0,2,3])\n",
    "\n",
    "print('------对切片索引--------')\n",
    "print(arr[:1,1:])#按索引层次来\n",
    "print(arr[0,1:])\n",
    "print(arr[:1,2:,1:2])"
   ]
  },
  {
   "cell_type": "code",
   "execution_count": 67,
   "metadata": {},
   "outputs": [
    {
     "name": "stdout",
     "output_type": "stream",
     "text": [
      "[[0.31977297 0.71534361 0.75836212 0.34918713]\n",
      " [0.75335438 0.9644107  0.88821896 0.36393143]\n",
      " [0.45069506 0.42804403 0.68102454 0.12560781]\n",
      " [0.43584447 0.93262304 0.67005257 0.8059927 ]\n",
      " [0.36457717 0.88085902 0.11821591 0.07058721]] ['aa' 'bb' 'cc' 'aa' 'cc']\n",
      "----------------\n",
      "[ True False False  True False]\n",
      "[[0.31977297 0.71534361 0.75836212 0.34918713]\n",
      " [0.43584447 0.93262304 0.67005257 0.8059927 ]]\n",
      "[[0.75836212 0.34918713]\n",
      " [0.67005257 0.8059927 ]]\n",
      "------取反--------\n",
      "[[0.75335438 0.9644107  0.88821896 0.36393143]\n",
      " [0.45069506 0.42804403 0.68102454 0.12560781]\n",
      " [0.36457717 0.88085902 0.11821591 0.07058721]]\n",
      "-----and & 和or |-----\n",
      "[[0.31977297 0.71534361 0.75836212 0.34918713]\n",
      " [0.75335438 0.9644107  0.88821896 0.36393143]\n",
      " [0.43584447 0.93262304 0.67005257 0.8059927 ]]\n",
      "------布尔赋值--------\n",
      "[[0.31977297 0.71534361 0.75836212 0.34918713]\n",
      " [8.         8.         8.         8.        ]\n",
      " [8.         8.         8.         8.        ]\n",
      " [0.43584447 0.93262304 0.67005257 0.8059927 ]\n",
      " [8.         8.         8.         8.        ]]\n"
     ]
    },
    {
     "data": {
      "text/plain": [
       "array([[  0.31977297, 100.        , 100.        ,   0.34918713],\n",
       "       [100.        , 100.        , 100.        , 100.        ],\n",
       "       [100.        , 100.        , 100.        , 100.        ],\n",
       "       [  0.43584447, 100.        , 100.        , 100.        ],\n",
       "       [100.        , 100.        , 100.        , 100.        ]])"
      ]
     },
     "execution_count": 67,
     "metadata": {},
     "output_type": "execute_result"
    }
   ],
   "source": [
    "#布尔索引\n",
    "name = np.array(['aa','bb','cc','aa','cc'])\n",
    "data = np.random.rand(5,4)\n",
    "print(data,name)\n",
    "print('----------------')\n",
    "print(name == 'aa')\n",
    "print(data[name == 'aa'])#布尔数组长度对应数组的行数\n",
    "print(data[name == 'aa',2:])#依然可以索引\n",
    "print('------取反--------')\n",
    "print(data[~(name == 'aa')])#用~进行取反\n",
    "print('-----and & 和or |-----')\n",
    "print(data[(name == 'aa')|(name == 'bb')])\n",
    "print('------布尔赋值--------')\n",
    "data[name != 'aa'] = 8\n",
    "print(data)\n",
    "data[data>0.5] = 100\n",
    "data"
   ]
  },
  {
   "cell_type": "code",
   "execution_count": 78,
   "metadata": {},
   "outputs": [
    {
     "name": "stdout",
     "output_type": "stream",
     "text": [
      "[[0. 0. 0. 0.]\n",
      " [1. 1. 1. 1.]\n",
      " [2. 2. 2. 2.]\n",
      " [3. 3. 3. 3.]\n",
      " [4. 4. 4. 4.]\n",
      " [5. 5. 5. 5.]\n",
      " [6. 6. 6. 6.]\n",
      " [7. 7. 7. 7.]]\n",
      "------------\n",
      "[[4. 4. 4. 4.]\n",
      " [3. 3. 3. 3.]\n",
      " [0. 0. 0. 0.]\n",
      " [6. 6. 6. 6.]]\n",
      "------------\n",
      "[[ 0  1  2  3]\n",
      " [ 4  5  6  7]\n",
      " [ 8  9 10 11]\n",
      " [12 13 14 15]\n",
      " [16 17 18 19]\n",
      " [20 21 22 23]\n",
      " [24 25 26 27]\n",
      " [28 29 30 31]]\n",
      "------------\n",
      "[16 15  1 26]\n"
     ]
    }
   ],
   "source": [
    "#神奇索引\n",
    "arr = np.empty((8,4))\n",
    "for i in range(8):\n",
    "    arr[i] = i\n",
    "print(arr)\n",
    "print('------------')\n",
    "print(arr[[4,3,0,6]])#注意这里有两层方括号\n",
    "print('------------')\n",
    "arr = np.arange(32).reshape(8,4)\n",
    "print(arr)\n",
    "print('------------')\n",
    "print(arr[[4,3,0,6],[0,3,1,2]])#类似于（4，0），（3，3）这样的坐标系"
   ]
  },
  {
   "cell_type": "code",
   "execution_count": 84,
   "metadata": {},
   "outputs": [
    {
     "name": "stdout",
     "output_type": "stream",
     "text": [
      "[[ 0  1  2  3]\n",
      " [ 4  5  6  7]\n",
      " [ 8  9 10 11]]\n",
      "[[ 0  4  8]\n",
      " [ 1  5  9]\n",
      " [ 2  6 10]\n",
      " [ 3  7 11]]\n",
      "[[ 80  92 104 116]\n",
      " [ 92 107 122 137]\n",
      " [104 122 140 158]\n",
      " [116 137 158 179]]\n",
      "transpose方法置换轴\n",
      "[[[ 0  1  2  3]\n",
      "  [ 4  5  6  7]\n",
      "  [ 8  9 10 11]]\n",
      "\n",
      " [[12 13 14 15]\n",
      "  [16 17 18 19]\n",
      "  [20 21 22 23]]]\n",
      "------------\n",
      "[[[ 0  1  2  3]\n",
      "  [12 13 14 15]]\n",
      "\n",
      " [[ 4  5  6  7]\n",
      "  [16 17 18 19]]\n",
      "\n",
      " [[ 8  9 10 11]\n",
      "  [20 21 22 23]]]\n"
     ]
    }
   ],
   "source": [
    "#数组转置和换轴\n",
    "arr = np.arange(12).reshape(3,4)\n",
    "print(arr)\n",
    "print(arr.T)\n",
    "print(np.dot(arr.T,arr))\n",
    "\n",
    "#transpose方法置换轴\n",
    "print('transpose方法置换轴')\n",
    "arr = np.arange(24).reshape(2,3,4)\n",
    "print(arr)\n",
    "print('------------')\n",
    "print(arr.transpose(1,0,2))#1，2两轴互换\n",
    "#比如5，换轴前为（0，1，1），换轴后为（1，0，1）"
   ]
  },
  {
   "cell_type": "code",
   "execution_count": 85,
   "metadata": {},
   "outputs": [
    {
     "data": {
      "text/plain": [
       "array([[[ 0,  1,  2,  3],\n",
       "        [12, 13, 14, 15]],\n",
       "\n",
       "       [[ 4,  5,  6,  7],\n",
       "        [16, 17, 18, 19]],\n",
       "\n",
       "       [[ 8,  9, 10, 11],\n",
       "        [20, 21, 22, 23]]])"
      ]
     },
     "execution_count": 85,
     "metadata": {},
     "output_type": "execute_result"
    }
   ],
   "source": [
    "#swapaxes方法置换轴\n",
    "arr = np.arange(24).reshape(2,3,4)\n",
    "arr.swapaxes(1,0)#和上面transpose效果相同，这里表示把1，2两个轴互换"
   ]
  },
  {
   "cell_type": "code",
   "execution_count": 95,
   "metadata": {},
   "outputs": [
    {
     "name": "stdout",
     "output_type": "stream",
     "text": [
      "[0 1 2 3 4 5 6 7 8 9]\n",
      "[0.         1.         1.41421356 1.73205081 2.         2.23606798\n",
      " 2.44948974 2.64575131 2.82842712 3.        ]\n",
      "[1.00000000e+00 2.71828183e+00 7.38905610e+00 2.00855369e+01\n",
      " 5.45981500e+01 1.48413159e+02 4.03428793e+02 1.09663316e+03\n",
      " 2.98095799e+03 8.10308393e+03]\n",
      "\n",
      "----二元通用函数-------------\n",
      "[-0.35587015 -0.737115    0.32588033 -0.01476076  1.51753941 -0.38680193\n",
      "  0.11405615  0.59029658]\n",
      "[ 0.05936037 -0.83305082 -1.4706959  -0.34571894  0.25548252 -0.61607973\n",
      " -1.417947   -0.1720421 ]\n",
      "---------------\n",
      "[-0.29650977 -1.57016582 -1.14481556 -0.3604797   1.77302193 -1.00288166\n",
      " -1.30389084  0.41825447]\n",
      "---------------\n",
      "[ 0.05936037 -0.737115    0.32588033 -0.01476076  1.51753941 -0.38680193\n",
      "  0.11405615  0.59029658]\n"
     ]
    }
   ],
   "source": [
    "#通用函数：快速的逐元素数组函数\n",
    "arr = np.arange(10)\n",
    "print(arr)\n",
    "print(np.sqrt(arr))#开方\n",
    "print(np.exp(arr))#自然指数值\n",
    "\n",
    "print('\\n----二元通用函数-------------')\n",
    "x = np.random.randn(8)\n",
    "y = np.random.randn(8)\n",
    "print(x)\n",
    "print(y)\n",
    "print('---------------')\n",
    "print(np.add(x,y))\n",
    "print('---------------')\n",
    "print(np.maximum(x,y))"
   ]
  },
  {
   "cell_type": "code",
   "execution_count": 105,
   "metadata": {},
   "outputs": [
    {
     "name": "stdout",
     "output_type": "stream",
     "text": [
      "[[-5.   -4.99 -4.98 ...  4.97  4.98  4.99]\n",
      " [-5.   -4.99 -4.98 ...  4.97  4.98  4.99]\n",
      " [-5.   -4.99 -4.98 ...  4.97  4.98  4.99]\n",
      " ...\n",
      " [-5.   -4.99 -4.98 ...  4.97  4.98  4.99]\n",
      " [-5.   -4.99 -4.98 ...  4.97  4.98  4.99]\n",
      " [-5.   -4.99 -4.98 ...  4.97  4.98  4.99]]\n",
      "---------------------\n",
      "[[7.07106781 7.06400028 7.05693985 ... 7.04988652 7.05693985 7.06400028]\n",
      " [7.06400028 7.05692568 7.04985815 ... 7.04279774 7.04985815 7.05692568]\n",
      " [7.05693985 7.04985815 7.04278354 ... 7.03571603 7.04278354 7.04985815]\n",
      " ...\n",
      " [7.04988652 7.04279774 7.03571603 ... 7.0286414  7.03571603 7.04279774]\n",
      " [7.05693985 7.04985815 7.04278354 ... 7.03571603 7.04278354 7.04985815]\n",
      " [7.06400028 7.05692568 7.04985815 ... 7.04279774 7.04985815 7.05692568]]\n"
     ]
    },
    {
     "data": {
      "text/plain": [
       "<matplotlib.colorbar.Colorbar at 0x25e28f73160>"
      ]
     },
     "execution_count": 105,
     "metadata": {},
     "output_type": "execute_result"
    },
    {
     "data": {
      "image/png": "[encoded data removed]",
      "text/plain": [
       "<Figure size 432x288 with 2 Axes>"
      ]
     },
     "metadata": {
      "needs_background": "light"
     },
     "output_type": "display_data"
    }
   ],
   "source": [
    "#面向数组编程\n",
    "p = np.arange(-5,5,0.01)\n",
    "x1,y1 = np.meshgrid(p,p)#接收两个一维数组，转化成二维矩阵\n",
    "print(x1)\n",
    "print('---------------------')\n",
    "z = np.sqrt(x1**2+y1**2)\n",
    "print(z)\n",
    "import matplotlib.pyplot as plt\n",
    "plt.imshow(z,cmap=plt.cm.gray)\n",
    "plt.colorbar()"
   ]
  },
  {
   "cell_type": "code",
   "execution_count": 112,
   "metadata": {},
   "outputs": [
    {
     "name": "stdout",
     "output_type": "stream",
     "text": [
      "[1.2, 1.0, 6, 4.0]\n",
      "[1.2 1.  6.  4. ]\n",
      "[[-2  2  2  2]\n",
      " [-2  2 -2 -2]\n",
      " [ 2  2 -2 -2]\n",
      " [-2 -2  2  2]]\n",
      "[[-0.37806704  1.          1.          1.        ]\n",
      " [-1.14615825  1.         -0.29512024 -0.17418455]\n",
      " [ 1.          1.         -1.40341466 -0.6187624 ]\n",
      " [-1.21233666 -0.01850948  1.          1.        ]]\n"
     ]
    }
   ],
   "source": [
    "#条件逻辑\n",
    "x = np.array([1.2,1,2.3,4])\n",
    "y = np.array([2,4,6,8])\n",
    "c = np.array([True,True,False,True])\n",
    "r = [(x if c else y)\n",
    "    for x,c,y in zip(x,c,y)]\n",
    "print(r)\n",
    "#现在使用\n",
    "r = np.where(c,x,y)\n",
    "print(r)\n",
    "\n",
    "arr = np.random.randn(4,4)\n",
    "w = np.where(arr>0,2,-2)\n",
    "print(w)\n",
    "h = np.where(arr>0,1,arr)\n",
    "print(h)"
   ]
  },
  {
   "cell_type": "code",
   "execution_count": 121,
   "metadata": {},
   "outputs": [
    {
     "name": "stdout",
     "output_type": "stream",
     "text": [
      "[[-1.27246287e+00  1.40445241e+00  7.71375473e-01  8.82918785e-01\n",
      "  -1.29114642e+00]\n",
      " [-4.58870397e-01  3.68705837e-01  8.35784835e-01 -2.98520901e+00\n",
      "  -4.16081394e-01]\n",
      " [-1.47155259e+00 -1.17282744e-01 -9.45432381e-01 -2.40406923e-01\n",
      "   1.16807573e+00]\n",
      " [-1.68270784e-04 -1.50652202e+00 -2.15045699e+00 -8.74895013e-01\n",
      "   1.62705631e+00]]\n",
      "-------------------\n",
      "-0.3336058815955473\n",
      "-0.3336058815955473\n",
      "---------选取不同轴----------\n",
      "[ 0.09902748 -0.53113403 -0.32131978 -0.5809972 ]\n",
      "[[ 0  1  2  3]\n",
      " [ 4  5  6  7]\n",
      " [ 8  9 10 11]\n",
      " [12 13 14 15]]\n",
      "[  0   1   3   6  10  15  21  28  36  45  55  66  78  91 105 120]\n",
      "[[ 0  1  3  6]\n",
      " [ 4  9 15 22]\n",
      " [ 8 17 27 38]\n",
      " [12 25 39 54]]\n"
     ]
    }
   ],
   "source": [
    "#数学和统计方法\n",
    "arr = np.random.randn(4,5)\n",
    "print(arr)\n",
    "print('-------------------')\n",
    "print(arr.mean())\n",
    "print(np.mean(arr))\n",
    "print('---------选取不同轴----------')\n",
    "print(arr.mean(axis = 1))\n",
    "arr = np.arange(16).reshape(4,4)\n",
    "print(arr)\n",
    "print(arr.cumsum())\n",
    "print(arr.cumsum(axis = 1))"
   ]
  },
  {
   "cell_type": "code",
   "execution_count": 124,
   "metadata": {},
   "outputs": [
    {
     "name": "stdout",
     "output_type": "stream",
     "text": [
      "51\n",
      "True\n",
      "False\n"
     ]
    }
   ],
   "source": [
    "#布尔值数组的方法\n",
    "#计数\n",
    "arr = np.random.randn(100)\n",
    "print((arr>0).sum())\n",
    "#any:有一个Ture\n",
    "#all:都为True\n",
    "b = np.array([True,False,True,True,False,True])\n",
    "print(b.any())\n",
    "print(b.all())"
   ]
  },
  {
   "cell_type": "code",
   "execution_count": 141,
   "metadata": {},
   "outputs": [
    {
     "name": "stdout",
     "output_type": "stream",
     "text": [
      "[-0.35625369 -0.10366565  0.08898612  0.80373882 -0.54395731 -0.16272884\n",
      " -1.45268843 -0.07057439 -0.68834368 -1.07629738]\n",
      "[-1.45268843 -1.07629738 -0.68834368 -0.54395731 -0.35625369 -0.16272884\n",
      " -0.10366565 -0.07057439  0.08898612  0.80373882]\n",
      "---------------------\n",
      "[[-1.47405793  0.64143491 -0.16163645 -0.28046753]\n",
      " [ 0.30482477  0.77871762  0.38704551  0.33057236]\n",
      " [-1.96831883 -0.1001975   1.20718934 -0.84372671]\n",
      " [ 0.13726522  0.19310973 -0.18073546  1.49709296]]\n",
      "---------------------\n",
      "[[-1.47405793 -0.28046753 -0.16163645  0.64143491]\n",
      " [ 0.30482477  0.33057236  0.38704551  0.77871762]\n",
      " [-1.96831883 -0.84372671 -0.1001975   1.20718934]\n",
      " [-0.18073546  0.13726522  0.19310973  1.49709296]]\n",
      "---------------------\n",
      "[[-1.96831883 -0.1001975  -0.18073546 -0.84372671]\n",
      " [-1.47405793  0.19310973 -0.16163645 -0.28046753]\n",
      " [ 0.13726522  0.64143491  0.38704551  0.33057236]\n",
      " [ 0.30482477  0.77871762  1.20718934  1.49709296]]\n"
     ]
    }
   ],
   "source": [
    "#排序\n",
    "arr = np.random.randn(10)\n",
    "print(arr)\n",
    "print(np.sort(arr))\n",
    "print('---------------------')\n",
    "arr1 = np.random.randn(16).reshape(4,4)\n",
    "print(arr1)\n",
    "print('---------------------')\n",
    "print(np.sort(arr1))#横着排序\n",
    "print('---------------------')\n",
    "print(np.sort(arr1,0))#竖着排序"
   ]
  },
  {
   "cell_type": "code",
   "execution_count": 144,
   "metadata": {},
   "outputs": [
    {
     "name": "stdout",
     "output_type": "stream",
     "text": [
      "['aa' 'bb' 'cc' 'aa' 'bb']\n",
      "['aa' 'bb' 'cc']\n",
      "[ True  True False  True  True]\n"
     ]
    }
   ],
   "source": [
    "#唯一值与其他集合逻辑\n",
    "arr = np.array(['aa','bb','cc','aa','bb'])\n",
    "print(arr)\n",
    "print(np.unique(arr))\n",
    "arr2 = np.array(['aa','vv','mm','bb'])\n",
    "print(np.in1d(arr,arr2))#检验arr中的值，如果在arr2中即为True"
   ]
  },
  {
   "cell_type": "code",
   "execution_count": 146,
   "metadata": {},
   "outputs": [
    {
     "data": {
      "text/plain": [
       "array([0, 1, 2, 3, 4, 5, 6, 7, 8, 9])"
      ]
     },
     "execution_count": 146,
     "metadata": {},
     "output_type": "execute_result"
    }
   ],
   "source": [
    "#使用数组进行文件输入与输出\n",
    "arr = np.arange(10)\n",
    "np.save('some_arr',arr)#存储\n",
    "np.load('some_arr.npy')#导出"
   ]
  },
  {
   "cell_type": "code",
   "execution_count": 151,
   "metadata": {},
   "outputs": [
    {
     "name": "stdout",
     "output_type": "stream",
     "text": [
      "[[0 1 2]\n",
      " [3 4 5]]\n",
      "[[0 1]\n",
      " [2 3]\n",
      " [4 5]]\n",
      "--------------\n",
      "[[10 13]\n",
      " [28 40]]\n",
      "[[10 13]\n",
      " [28 40]]\n"
     ]
    }
   ],
   "source": [
    "#线性代数\n",
    "x = np.arange(6).reshape(2,3)\n",
    "y = np.arange(6).reshape(3,2)\n",
    "print(x)\n",
    "print(y)\n",
    "print('--------------')\n",
    "print(np.dot(x,y))\n",
    "print(x.dot(y))"
   ]
  },
  {
   "cell_type": "code",
   "execution_count": 166,
   "metadata": {},
   "outputs": [
    {
     "name": "stdout",
     "output_type": "stream",
     "text": [
      "[[ 0.75541398  0.21526858  0.84100879 -1.44581008]\n",
      " [-1.40197328 -0.1009182  -0.54824245 -0.14461951]\n",
      " [ 0.35402033 -0.03551303  0.56573831  1.5456588 ]\n",
      " [-0.97423633 -0.07034488  0.30796886 -0.20849876]]\n"
     ]
    }
   ],
   "source": [
    "#伪随机数\n",
    "# np.random.seed(1234)#全局随机数种子\n",
    "# np.random.RandomState(1234)#随机数种子\n",
    "s = np.random.normal(size =(4,4))\n",
    "print(s)\n",
    "# np.random.rand()均匀分布【0，1）\n",
    "# np.random.randn()正态分布"
   ]
  },
  {
   "cell_type": "code",
   "execution_count": 178,
   "metadata": {},
   "outputs": [
    {
     "data": {
      "text/plain": [
       "[<matplotlib.lines.Line2D at 0x25e28e5d240>]"
      ]
     },
     "execution_count": 178,
     "metadata": {},
     "output_type": "execute_result"
    },
    {
     "data": {
      "image/png": "[encoded data removed]",
      "text/plain": [
       "<Figure size 432x288 with 1 Axes>"
      ]
     },
     "metadata": {
      "needs_background": "light"
     },
     "output_type": "display_data"
    }
   ],
   "source": [
    "#随机漫步\n",
    "import random\n",
    "position = 0\n",
    "walk = [position]\n",
    "steps = 1000\n",
    "for i in range(steps):\n",
    "    step = 1 if random.randint(0,1) else -1\n",
    "    position += step\n",
    "    walk.append(position)\n",
    "plt.plot(walk[:100])    \n",
    "#random.randint()取随机整数"
   ]
  },
  {
   "cell_type": "code",
   "execution_count": 187,
   "metadata": {},
   "outputs": [
    {
     "name": "stdout",
     "output_type": "stream",
     "text": [
      "[-1  0  1  0 -1  0 -1  0  1  2  1  0  1  2  3  4  3  2  3  2  3  4  5  4\n",
      "  3  4  5  4  3  4  5  6  7  8  9 10  9 10 11 10  9  8  9 10 11 12 13 12\n",
      " 11 12 13 14 15 14 15 16 17 16 15 16 15 14 13 12 13 14 13 14 15 14 13 12\n",
      " 11 10 11 12 13 14 13 14 13 14 15 16 17 16 17 16 17 16 15 16 17 18 17 18\n",
      " 19 18 19 20]\n",
      "-1\n",
      "20\n"
     ]
    }
   ],
   "source": [
    "s = 100\n",
    "a = np.random.randint(0,2,size = s)\n",
    "w = np.where(a>0,1,-1)\n",
    "walk = w.cumsum()\n",
    "print(walk)\n",
    "print(walk.min())\n",
    "print(walk.max())"
   ]
  },
  {
   "cell_type": "code",
   "execution_count": null,
   "metadata": {},
   "outputs": [],
   "source": []
  },
  {
   "cell_type": "code",
   "execution_count": null,
   "metadata": {},
   "outputs": [],
   "source": []
  }
 ],
 "metadata": {
  "kernelspec": {
   "display_name": "Python 3",
   "language": "python",
   "name": "python3"
  },
  "language_info": {
   "codemirror_mode": {
    "name": "ipython",
    "version": 3
   },
   "file_extension": ".py",
   "mimetype": "text/x-python",
   "name": "python",
   "nbconvert_exporter": "python",
   "pygments_lexer": "ipython3",
   "version": "3.7.0"
  }
 },
 "nbformat": 4,
 "nbformat_minor": 2
}
